{
 "cells": [
  {
   "cell_type": "markdown",
   "metadata": {},
   "source": [
    "- https://docs.python.org/3/\n",
    "\n",
    "펄, 리스비 \n",
    "1. 파이썬 - 가장 좋은 솔루션 1개 \n",
    "\n",
    "2. 글루 언어 - 파이썬은 언어가 아니고 명세를 구현한 것 (c로 만듬)\n",
    "c와 잘 붙는다고 해서 글루 랭귀지\n",
    "\n",
    "3. 라이브러리 & 툴 \n",
    "\n",
    "\n",
    "+ mutable: bytesarray, set ,dict, list\n",
    "\n",
    "container \n",
    "- homo : range, str, byte, bytearray \n",
    "\n",
    "- hetero : list, tuple, set, dict(없는 것 추가시킬 수 있다, key = hashable(해쉬가 가능한 애만 올수있다.)), \n",
    " + hash : 불변 , 키가 중복되면 맨 마지막으로 온 것으로 대체 \n",
    "\n",
    "- sequence: list, tuple, str, byte, bytearray, range\n",
    "\n",
    "- not sequence : set, dict  - index, slicing 못 쓴다. \n",
    "\n",
    "\n",
    "- 파이썬 \n",
    "   - 실행속도가 느리다 \n",
    "   - 모바일 지원에 대한 약점 (java, 코틀린) \n",
    "\n",
    "Read evaluation print loop - REPL \n",
    "- Jupyter\n",
    "\n",
    "IDE (integrated development environment) \n",
    "- pycharm 같은 통합 개발 도구 \n",
    "\n",
    "Text Editor \n",
    "- atom\n",
    "\n",
    "\n",
    "docker : send box \n",
    "- 도커를 사용하면 container 끼리 보안 유지를 한다. \n",
    "\n",
    "introspection"
   ]
  },
  {
   "cell_type": "code",
   "execution_count": 3,
   "metadata": {},
   "outputs": [],
   "source": [
    "import this"
   ]
  },
  {
   "cell_type": "code",
   "execution_count": 2,
   "metadata": {},
   "outputs": [],
   "source": [
    "import antigravity"
   ]
  },
  {
   "cell_type": "code",
   "execution_count": null,
   "metadata": {},
   "outputs": [],
   "source": [
    "a = 1 # name(identifier_식별자) = expression (표현식)\n",
    "\n",
    "# expression: 하나의 값으로 축약(reduction)할수 있는 것"
   ]
  },
  {
   "cell_type": "markdown",
   "metadata": {},
   "source": [
    "이름 붙이는 규칙은 PEP8에 잘 나와있다.\\ \n",
    "표준: Standard, de facto, reocommendation \n",
    "\n",
    "- 이름 다 대문자 : 상수 취급 / 파이썬은 상수가 없는 언어 \n",
    "- C에 상수가 있다는 뜻은 a=1 -> a=2 로 바꾸면 에러가 난다. \n",
    "- 이름 다 소문자 : Module or 단일 이름 \n",
    "- (합성 이름): snake 방식(cho_beauty)-함수 이름; 카멜 방식(choBeauty)-클래스 이름; \n",
    "\n",
    "- 두꺼운 초록색 : 파이썬 문법 (키워드)\n",
    "        - shift + tap 이 안되므로, help('in')으로 봐야한다. \n",
    "- 얇은 초록색: 파이썬 내장 함수"
   ]
  },
  {
   "cell_type": "code",
   "execution_count": 15,
   "metadata": {},
   "outputs": [
    {
     "name": "stdout",
     "output_type": "stream",
     "text": [
      "cho\n"
     ]
    }
   ],
   "source": [
    "print('cho') # 키워드 빼고 모듈이나 이런 것들은 다 "
   ]
  },
  {
   "cell_type": "code",
   "execution_count": 16,
   "metadata": {},
   "outputs": [],
   "source": [
    "print = 1"
   ]
  },
  {
   "cell_type": "code",
   "execution_count": 17,
   "metadata": {},
   "outputs": [
    {
     "data": {
      "text/plain": [
       "1"
      ]
     },
     "execution_count": 17,
     "metadata": {},
     "output_type": "execute_result"
    }
   ],
   "source": [
    "print"
   ]
  },
  {
   "cell_type": "code",
   "execution_count": 18,
   "metadata": {},
   "outputs": [],
   "source": [
    "del print # 파이썬 문법 + 모듈"
   ]
  },
  {
   "cell_type": "code",
   "execution_count": 13,
   "metadata": {},
   "outputs": [],
   "source": [
    "a = 1"
   ]
  },
  {
   "cell_type": "code",
   "execution_count": 7,
   "metadata": {},
   "outputs": [],
   "source": [
    "a = 2"
   ]
  },
  {
   "cell_type": "code",
   "execution_count": 10,
   "metadata": {},
   "outputs": [],
   "source": [
    "from tensorflow.keras.datasets import mnist "
   ]
  },
  {
   "cell_type": "code",
   "execution_count": 11,
   "metadata": {},
   "outputs": [
    {
     "data": {
      "text/plain": [
       "module"
      ]
     },
     "execution_count": 11,
     "metadata": {},
     "output_type": "execute_result"
    }
   ],
   "source": [
    "type(mnist) # 인스턴스 타입을 찾으면 클래스 이름이 나온다. "
   ]
  },
  {
   "cell_type": "markdown",
   "metadata": {},
   "source": [
    "## 할당문 "
   ]
  },
  {
   "cell_type": "code",
   "execution_count": 19,
   "metadata": {},
   "outputs": [],
   "source": [
    "a = 1 + 1 "
   ]
  },
  {
   "cell_type": "code",
   "execution_count": 20,
   "metadata": {},
   "outputs": [
    {
     "data": {
      "text/plain": [
       "2"
      ]
     },
     "execution_count": 20,
     "metadata": {},
     "output_type": "execute_result"
    }
   ],
   "source": [
    "a"
   ]
  },
  {
   "cell_type": "markdown",
   "metadata": {},
   "source": [
    "조건문, 반복문, 예외 처리문, 선언문, 할당문, ..."
   ]
  },
  {
   "cell_type": "code",
   "execution_count": 22,
   "metadata": {},
   "outputs": [
    {
     "name": "stdout",
     "output_type": "stream",
     "text": [
      "Variable      Type      Data/Info\n",
      "---------------------------------\n",
      "a             int       2\n",
      "antigravity   module    <module 'antigravity' fro<...>a3\\\\lib\\\\antigravity.py'>\n",
      "mnist         module    <module 'tensorflow.keras<...>ets\\\\mnist\\\\__init__.py'>\n",
      "this          module    <module 'this' from 'C:\\\\<...>Anaconda3\\\\lib\\\\this.py'>\n"
     ]
    }
   ],
   "source": [
    "%whos"
   ]
  },
  {
   "cell_type": "markdown",
   "metadata": {},
   "source": [
    "### 할당 6가지 \n",
    "1. a = 1 \n",
    "\n",
    "2. 증감할당 (전치 증감; ++b (b+=1) -> 파이썬에는 없다.)\n",
    "   a += 1 \n",
    "    \n",
    "3. confound 할당 \n",
    "   a = b = 1  **주의** (1)\n",
    "\n",
    "4. 동시 할당 \n",
    "   a, b = 1, 2\n",
    "   a, b = b, a+b\n",
    "\n",
    "5. unpacking : 내부적으로 정해진 순서의 짝을 맞춰준다. \n",
    "   a, b = (1,2) ; [1,2] ; {1,2} \n",
    "   \n",
    "6. Global, nonlocal \n",
    "\n",
    "- global 이용하여 전역번수 접근, 변경하기 # 추천하지 않는 기능\n",
    "함수 밖에서 함수 안에서 접근할 수 없다.\n",
    "함 수 안에서는 함수 밖에거 접근할 수 있는데, 그 경우는 안에 값이 없을 때이다. 하지만 값을 바꿀 수는 없다. \n",
    "- nonlocal은 함수 중첩시 함수와 함수 사이 변수\n"
   ]
  },
  {
   "cell_type": "code",
   "execution_count": 23,
   "metadata": {},
   "outputs": [],
   "source": [
    "a = b = 1"
   ]
  },
  {
   "cell_type": "code",
   "execution_count": 24,
   "metadata": {},
   "outputs": [],
   "source": [
    "a = 3"
   ]
  },
  {
   "cell_type": "code",
   "execution_count": 25,
   "metadata": {},
   "outputs": [
    {
     "data": {
      "text/plain": [
       "1"
      ]
     },
     "execution_count": 25,
     "metadata": {},
     "output_type": "execute_result"
    }
   ],
   "source": [
    "b"
   ]
  },
  {
   "cell_type": "code",
   "execution_count": 26,
   "metadata": {},
   "outputs": [],
   "source": [
    "# **주의** (1)\n",
    "a = b= [1,2,3,]"
   ]
  },
  {
   "cell_type": "code",
   "execution_count": 27,
   "metadata": {},
   "outputs": [],
   "source": [
    "a.append(4)"
   ]
  },
  {
   "cell_type": "code",
   "execution_count": 28,
   "metadata": {},
   "outputs": [
    {
     "data": {
      "text/plain": [
       "[1, 2, 3, 4]"
      ]
     },
     "execution_count": 28,
     "metadata": {},
     "output_type": "execute_result"
    }
   ],
   "source": [
    "b"
   ]
  },
  {
   "cell_type": "code",
   "execution_count": 30,
   "metadata": {},
   "outputs": [],
   "source": [
    "a, b = 1,2 # 동시 할당 방법 "
   ]
  },
  {
   "cell_type": "code",
   "execution_count": 37,
   "metadata": {},
   "outputs": [],
   "source": [
    "a, b = b, a "
   ]
  },
  {
   "cell_type": "code",
   "execution_count": 32,
   "metadata": {},
   "outputs": [],
   "source": [
    "# 동시 할당 방법 (C언어)\n",
    "tmp = a\n",
    "b = a \n",
    "a = tmp\n",
    "a"
   ]
  },
  {
   "cell_type": "code",
   "execution_count": 47,
   "metadata": {},
   "outputs": [
    {
     "data": {
      "text/plain": [
       "(1, 2)"
      ]
     },
     "execution_count": 47,
     "metadata": {},
     "output_type": "execute_result"
    }
   ],
   "source": [
    "# unpacking 할당 \n",
    "a, b = (1,2)\n",
    "a, b"
   ]
  },
  {
   "cell_type": "code",
   "execution_count": 45,
   "metadata": {},
   "outputs": [
    {
     "data": {
      "text/plain": [
       "(1, 2)"
      ]
     },
     "execution_count": 45,
     "metadata": {},
     "output_type": "execute_result"
    }
   ],
   "source": [
    "a, b = [1,2]\n",
    "a, b"
   ]
  },
  {
   "cell_type": "code",
   "execution_count": 51,
   "metadata": {},
   "outputs": [
    {
     "data": {
      "text/plain": [
       "(1, 2)"
      ]
     },
     "execution_count": 51,
     "metadata": {},
     "output_type": "execute_result"
    }
   ],
   "source": [
    "a, b = {2,1}\n",
    "a, b   # set 은 중복이 없고 순서가 없는 애들 "
   ]
  },
  {
   "cell_type": "code",
   "execution_count": 76,
   "metadata": {},
   "outputs": [],
   "source": [
    "a, *b = 1,2,3,4,  # training comma (파이썬은 training comma 를 무시한다.)\n",
    "# *: 나머지 (list - mutable )"
   ]
  },
  {
   "cell_type": "code",
   "execution_count": 77,
   "metadata": {},
   "outputs": [
    {
     "data": {
      "text/plain": [
       "list"
      ]
     },
     "execution_count": 77,
     "metadata": {},
     "output_type": "execute_result"
    }
   ],
   "source": [
    "type(b) "
   ]
  },
  {
   "cell_type": "markdown",
   "metadata": {},
   "source": [
    "### global "
   ]
  },
  {
   "cell_type": "code",
   "execution_count": 251,
   "metadata": {},
   "outputs": [],
   "source": [
    "def t():\n",
    "    bbb = 4\n",
    "    return aaaaa"
   ]
  },
  {
   "cell_type": "code",
   "execution_count": 239,
   "metadata": {},
   "outputs": [
    {
     "data": {
      "text/plain": [
       "3"
      ]
     },
     "execution_count": 239,
     "metadata": {},
     "output_type": "execute_result"
    }
   ],
   "source": [
    "aaaaa = 3\n",
    "t()"
   ]
  },
  {
   "cell_type": "code",
   "execution_count": 243,
   "metadata": {},
   "outputs": [],
   "source": [
    "def t():\n",
    "    global aaaa # 함수 안에 있는 것과 밖에 있는 것의 싱크를 맞춰서 사용한다는 뜻이다. \n",
    "    aaaa+= 1 \n",
    "    return aaaa"
   ]
  },
  {
   "cell_type": "code",
   "execution_count": 245,
   "metadata": {
    "scrolled": true
   },
   "outputs": [
    {
     "data": {
      "text/plain": [
       "4"
      ]
     },
     "execution_count": 245,
     "metadata": {},
     "output_type": "execute_result"
    }
   ],
   "source": [
    "aaaa = 3\n",
    "t()"
   ]
  },
  {
   "cell_type": "markdown",
   "metadata": {},
   "source": [
    "### nonlocal "
   ]
  },
  {
   "cell_type": "code",
   "execution_count": 270,
   "metadata": {},
   "outputs": [],
   "source": [
    "xxx = 3 \n",
    "def t():\n",
    "    xxx = 1\n",
    "    def s():\n",
    "#         global xxx\n",
    "        nonlocal xxx\n",
    "        return xxx\n",
    "    return s()\n",
    "# 함수 안에 있는 변수를 local 변수라고 한다. \n",
    "# 함수를 감싸고 있는 변수를 enclosing 변수, 또는 nonlocal 변수라고 한다. \n",
    "# 함수 밖에 있는 변수를 global 변수라고 한다. "
   ]
  },
  {
   "cell_type": "code",
   "execution_count": 271,
   "metadata": {},
   "outputs": [
    {
     "data": {
      "text/plain": [
       "1"
      ]
     },
     "execution_count": 271,
     "metadata": {},
     "output_type": "execute_result"
    }
   ],
   "source": [
    "t() "
   ]
  },
  {
   "cell_type": "code",
   "execution_count": 268,
   "metadata": {},
   "outputs": [],
   "source": [
    "xxx = 3 \n",
    "def t():\n",
    "    xxx = 1\n",
    "    def s():\n",
    "        nonlocal xxx\n",
    "        return xxx\n",
    "    return s()"
   ]
  },
  {
   "cell_type": "code",
   "execution_count": null,
   "metadata": {},
   "outputs": [],
   "source": []
  },
  {
   "cell_type": "code",
   "execution_count": 269,
   "metadata": {},
   "outputs": [
    {
     "data": {
      "text/plain": [
       "1"
      ]
     },
     "execution_count": 269,
     "metadata": {},
     "output_type": "execute_result"
    }
   ],
   "source": [
    "t()"
   ]
  },
  {
   "cell_type": "markdown",
   "metadata": {},
   "source": [
    "### keyword\n",
    "- 35개"
   ]
  },
  {
   "cell_type": "code",
   "execution_count": 79,
   "metadata": {},
   "outputs": [],
   "source": [
    "import keyword "
   ]
  },
  {
   "cell_type": "code",
   "execution_count": 80,
   "metadata": {
    "scrolled": true
   },
   "outputs": [
    {
     "data": {
      "text/plain": [
       "['False',\n",
       " 'None',\n",
       " 'True',\n",
       " 'and',\n",
       " 'as',\n",
       " 'assert',\n",
       " 'async',\n",
       " 'await',\n",
       " 'break',\n",
       " 'class',\n",
       " 'continue',\n",
       " 'def',\n",
       " 'del',\n",
       " 'elif',\n",
       " 'else',\n",
       " 'except',\n",
       " 'finally',\n",
       " 'for',\n",
       " 'from',\n",
       " 'global',\n",
       " 'if',\n",
       " 'import',\n",
       " 'in',\n",
       " 'is',\n",
       " 'lambda',\n",
       " 'nonlocal',\n",
       " 'not',\n",
       " 'or',\n",
       " 'pass',\n",
       " 'raise',\n",
       " 'return',\n",
       " 'try',\n",
       " 'while',\n",
       " 'with',\n",
       " 'yield']"
      ]
     },
     "execution_count": 80,
     "metadata": {},
     "output_type": "execute_result"
    }
   ],
   "source": [
    "keyword.kwlist"
   ]
  },
  {
   "cell_type": "markdown",
   "metadata": {},
   "source": [
    "### 자료형 숫자, 문자 "
   ]
  },
  {
   "cell_type": "code",
   "execution_count": 81,
   "metadata": {
    "scrolled": true
   },
   "outputs": [
    {
     "data": {
      "text/plain": [
       "True"
      ]
     },
     "execution_count": 81,
     "metadata": {},
     "output_type": "execute_result"
    }
   ],
   "source": [
    "issubclass(bool, int )"
   ]
  },
  {
   "cell_type": "code",
   "execution_count": 82,
   "metadata": {},
   "outputs": [
    {
     "data": {
      "text/plain": [
       "True"
      ]
     },
     "execution_count": 82,
     "metadata": {},
     "output_type": "execute_result"
    }
   ],
   "source": [
    "True == 1"
   ]
  },
  {
   "cell_type": "markdown",
   "metadata": {},
   "source": [
    "#### overflow "
   ]
  },
  {
   "cell_type": "code",
   "execution_count": 83,
   "metadata": {
    "scrolled": true
   },
   "outputs": [
    {
     "data": {
      "text/plain": [
       "0.30000000000000004"
      ]
     },
     "execution_count": 83,
     "metadata": {},
     "output_type": "execute_result"
    }
   ],
   "source": [
    "0.1+0.1+0.1"
   ]
  },
  {
   "cell_type": "code",
   "execution_count": 86,
   "metadata": {},
   "outputs": [
    {
     "data": {
      "text/plain": [
       "False"
      ]
     },
     "execution_count": 86,
     "metadata": {},
     "output_type": "execute_result"
    }
   ],
   "source": [
    "a == a + 1 # 무한대 "
   ]
  },
  {
   "cell_type": "code",
   "execution_count": 87,
   "metadata": {},
   "outputs": [],
   "source": [
    "a = float('inf')"
   ]
  },
  {
   "cell_type": "code",
   "execution_count": 88,
   "metadata": {},
   "outputs": [
    {
     "data": {
      "text/plain": [
       "True"
      ]
     },
     "execution_count": 88,
     "metadata": {},
     "output_type": "execute_result"
    }
   ],
   "source": [
    "a == a + 1"
   ]
  },
  {
   "cell_type": "code",
   "execution_count": 89,
   "metadata": {},
   "outputs": [],
   "source": [
    "import sys "
   ]
  },
  {
   "cell_type": "code",
   "execution_count": 90,
   "metadata": {},
   "outputs": [
    {
     "data": {
      "text/plain": [
       "sys.float_info(max=1.7976931348623157e+308, max_exp=1024, max_10_exp=308, min=2.2250738585072014e-308, min_exp=-1021, min_10_exp=-307, dig=15, mant_dig=53, epsilon=2.220446049250313e-16, radix=2, rounds=1)"
      ]
     },
     "execution_count": 90,
     "metadata": {},
     "output_type": "execute_result"
    }
   ],
   "source": [
    "sys.float_info"
   ]
  },
  {
   "cell_type": "code",
   "execution_count": 91,
   "metadata": {},
   "outputs": [
    {
     "data": {
      "text/plain": [
       "inf"
      ]
     },
     "execution_count": 91,
     "metadata": {},
     "output_type": "execute_result"
    }
   ],
   "source": [
    "1.7976931348623157e+309"
   ]
  },
  {
   "cell_type": "code",
   "execution_count": 94,
   "metadata": {},
   "outputs": [],
   "source": [
    "a = 100"
   ]
  },
  {
   "cell_type": "code",
   "execution_count": 95,
   "metadata": {},
   "outputs": [
    {
     "data": {
      "text/plain": [
       "140709852061600"
      ]
     },
     "execution_count": 95,
     "metadata": {},
     "output_type": "execute_result"
    }
   ],
   "source": [
    "id(a)"
   ]
  },
  {
   "cell_type": "markdown",
   "metadata": {},
   "source": [
    "#### 문자열"
   ]
  },
  {
   "cell_type": "code",
   "execution_count": 93,
   "metadata": {},
   "outputs": [],
   "source": [
    "# str, bytes, bytearray"
   ]
  },
  {
   "cell_type": "markdown",
   "metadata": {},
   "source": [
    "### list  \n",
    "- mutable"
   ]
  },
  {
   "cell_type": "code",
   "execution_count": 106,
   "metadata": {},
   "outputs": [],
   "source": [
    "x = [1,2,]"
   ]
  },
  {
   "cell_type": "code",
   "execution_count": 107,
   "metadata": {},
   "outputs": [
    {
     "data": {
      "text/plain": [
       "1769322473480"
      ]
     },
     "execution_count": 107,
     "metadata": {},
     "output_type": "execute_result"
    }
   ],
   "source": [
    "id(x) # 메모리 번지 "
   ]
  },
  {
   "cell_type": "code",
   "execution_count": 108,
   "metadata": {},
   "outputs": [],
   "source": [
    "x.append(3)"
   ]
  },
  {
   "cell_type": "code",
   "execution_count": 109,
   "metadata": {
    "scrolled": true
   },
   "outputs": [
    {
     "data": {
      "text/plain": [
       "1769322473480"
      ]
     },
     "execution_count": 109,
     "metadata": {},
     "output_type": "execute_result"
    }
   ],
   "source": [
    "id(x)"
   ]
  },
  {
   "cell_type": "code",
   "execution_count": 161,
   "metadata": {},
   "outputs": [],
   "source": [
    "a = [1,2,3]"
   ]
  },
  {
   "cell_type": "code",
   "execution_count": 162,
   "metadata": {},
   "outputs": [
    {
     "data": {
      "text/plain": [
       "[1, 2, 3]"
      ]
     },
     "execution_count": 162,
     "metadata": {},
     "output_type": "execute_result"
    }
   ],
   "source": [
    "a[slice(0,100)]"
   ]
  },
  {
   "cell_type": "code",
   "execution_count": 110,
   "metadata": {},
   "outputs": [],
   "source": [
    "None"
   ]
  },
  {
   "cell_type": "code",
   "execution_count": 119,
   "metadata": {},
   "outputs": [],
   "source": [
    "def x():\n",
    "    a = 1"
   ]
  },
  {
   "cell_type": "markdown",
   "metadata": {},
   "source": [
    "함수 \n",
    "1. 리턴이 없지만, 자기 자신이 변하는 경우\n",
    "    - append, extend\n",
    "2. 리턴이 있지만, 자기 자신이 변하지 않는 경우\n",
    "    - count, index\n",
    "3. 리턴도 있고, 자기자신도 변하는 경우 \n",
    "    - x.pop()"
   ]
  },
  {
   "cell_type": "code",
   "execution_count": 121,
   "metadata": {},
   "outputs": [],
   "source": [
    "x = [1,2,3]"
   ]
  },
  {
   "cell_type": "code",
   "execution_count": 124,
   "metadata": {},
   "outputs": [
    {
     "data": {
      "text/plain": [
       "2"
      ]
     },
     "execution_count": 124,
     "metadata": {},
     "output_type": "execute_result"
    }
   ],
   "source": [
    "x.pop()"
   ]
  },
  {
   "cell_type": "code",
   "execution_count": 125,
   "metadata": {},
   "outputs": [
    {
     "data": {
      "text/plain": [
       "[1]"
      ]
     },
     "execution_count": 125,
     "metadata": {},
     "output_type": "execute_result"
    }
   ],
   "source": [
    "x"
   ]
  },
  {
   "cell_type": "markdown",
   "metadata": {},
   "source": [
    "#### copy 기법\n",
    "- shallow copy\n",
    "- deep copy "
   ]
  },
  {
   "cell_type": "code",
   "execution_count": 132,
   "metadata": {},
   "outputs": [],
   "source": [
    "a = b = [1,2,3]"
   ]
  },
  {
   "cell_type": "code",
   "execution_count": 133,
   "metadata": {},
   "outputs": [],
   "source": [
    "c = a[:]"
   ]
  },
  {
   "cell_type": "code",
   "execution_count": 134,
   "metadata": {},
   "outputs": [
    {
     "data": {
      "text/plain": [
       "[1, 2, 3]"
      ]
     },
     "execution_count": 134,
     "metadata": {},
     "output_type": "execute_result"
    }
   ],
   "source": [
    "c"
   ]
  },
  {
   "cell_type": "code",
   "execution_count": 135,
   "metadata": {},
   "outputs": [],
   "source": [
    "a.append(4)"
   ]
  },
  {
   "cell_type": "code",
   "execution_count": 136,
   "metadata": {},
   "outputs": [
    {
     "data": {
      "text/plain": [
       "[1, 2, 3]"
      ]
     },
     "execution_count": 136,
     "metadata": {},
     "output_type": "execute_result"
    }
   ],
   "source": [
    "c"
   ]
  },
  {
   "cell_type": "code",
   "execution_count": 137,
   "metadata": {},
   "outputs": [
    {
     "data": {
      "text/plain": [
       "[1, 2, 3, 4]"
      ]
     },
     "execution_count": 137,
     "metadata": {},
     "output_type": "execute_result"
    }
   ],
   "source": [
    "b"
   ]
  },
  {
   "cell_type": "code",
   "execution_count": 138,
   "metadata": {},
   "outputs": [],
   "source": [
    "d = a.copy()"
   ]
  },
  {
   "cell_type": "code",
   "execution_count": 139,
   "metadata": {},
   "outputs": [],
   "source": [
    "a.append(5)"
   ]
  },
  {
   "cell_type": "code",
   "execution_count": 140,
   "metadata": {},
   "outputs": [
    {
     "data": {
      "text/plain": [
       "[1, 2, 3, 4]"
      ]
     },
     "execution_count": 140,
     "metadata": {},
     "output_type": "execute_result"
    }
   ],
   "source": [
    "d"
   ]
  },
  {
   "cell_type": "code",
   "execution_count": 142,
   "metadata": {},
   "outputs": [
    {
     "data": {
      "text/plain": [
       "[1, 2, 3, 4, 5]"
      ]
     },
     "execution_count": 142,
     "metadata": {},
     "output_type": "execute_result"
    }
   ],
   "source": [
    "b"
   ]
  },
  {
   "cell_type": "code",
   "execution_count": 143,
   "metadata": {
    "scrolled": true
   },
   "outputs": [
    {
     "data": {
      "text/plain": [
       "['__add__',\n",
       " '__class__',\n",
       " '__contains__',\n",
       " '__delattr__',\n",
       " '__delitem__',\n",
       " '__dir__',\n",
       " '__doc__',\n",
       " '__eq__',\n",
       " '__format__',\n",
       " '__ge__',\n",
       " '__getattribute__',\n",
       " '__getitem__',\n",
       " '__gt__',\n",
       " '__hash__',\n",
       " '__iadd__',\n",
       " '__imul__',\n",
       " '__init__',\n",
       " '__init_subclass__',\n",
       " '__iter__',\n",
       " '__le__',\n",
       " '__len__',\n",
       " '__lt__',\n",
       " '__mul__',\n",
       " '__ne__',\n",
       " '__new__',\n",
       " '__reduce__',\n",
       " '__reduce_ex__',\n",
       " '__repr__',\n",
       " '__reversed__',\n",
       " '__rmul__',\n",
       " '__setattr__',\n",
       " '__setitem__',\n",
       " '__sizeof__',\n",
       " '__str__',\n",
       " '__subclasshook__',\n",
       " 'append',\n",
       " 'clear',\n",
       " 'copy',\n",
       " 'count',\n",
       " 'extend',\n",
       " 'index',\n",
       " 'insert',\n",
       " 'pop',\n",
       " 'remove',\n",
       " 'reverse',\n",
       " 'sort']"
      ]
     },
     "execution_count": 143,
     "metadata": {},
     "output_type": "execute_result"
    }
   ],
   "source": [
    "dir(x)"
   ]
  },
  {
   "cell_type": "markdown",
   "metadata": {},
   "source": [
    "mutable (list)\n",
    "- copy\n",
    "- clear \n",
    "- remove \n",
    "- pop ... \n",
    "---\n",
    "* list, tuple 짝이다. \n",
    "* set, frozenset 짝이다.\n",
    "* dict은 혼자 "
   ]
  },
  {
   "cell_type": "code",
   "execution_count": 146,
   "metadata": {},
   "outputs": [],
   "source": [
    "# frosenset은 mutable이 아니다. \n",
    "a = frozenset({1,2,3})"
   ]
  },
  {
   "cell_type": "code",
   "execution_count": 145,
   "metadata": {
    "scrolled": true
   },
   "outputs": [
    {
     "data": {
      "text/plain": [
       "['__and__',\n",
       " '__class__',\n",
       " '__contains__',\n",
       " '__delattr__',\n",
       " '__dir__',\n",
       " '__doc__',\n",
       " '__eq__',\n",
       " '__format__',\n",
       " '__ge__',\n",
       " '__getattribute__',\n",
       " '__gt__',\n",
       " '__hash__',\n",
       " '__init__',\n",
       " '__init_subclass__',\n",
       " '__iter__',\n",
       " '__le__',\n",
       " '__len__',\n",
       " '__lt__',\n",
       " '__ne__',\n",
       " '__new__',\n",
       " '__or__',\n",
       " '__rand__',\n",
       " '__reduce__',\n",
       " '__reduce_ex__',\n",
       " '__repr__',\n",
       " '__ror__',\n",
       " '__rsub__',\n",
       " '__rxor__',\n",
       " '__setattr__',\n",
       " '__sizeof__',\n",
       " '__str__',\n",
       " '__sub__',\n",
       " '__subclasshook__',\n",
       " '__xor__',\n",
       " 'copy',\n",
       " 'difference',\n",
       " 'intersection',\n",
       " 'isdisjoint',\n",
       " 'issubset',\n",
       " 'issuperset',\n",
       " 'symmetric_difference',\n",
       " 'union']"
      ]
     },
     "execution_count": 145,
     "metadata": {},
     "output_type": "execute_result"
    }
   ],
   "source": [
    "dir(a)"
   ]
  },
  {
   "cell_type": "code",
   "execution_count": 154,
   "metadata": {},
   "outputs": [],
   "source": [
    "x = {}"
   ]
  },
  {
   "cell_type": "code",
   "execution_count": 155,
   "metadata": {},
   "outputs": [],
   "source": [
    "x['a'] = 1"
   ]
  },
  {
   "cell_type": "code",
   "execution_count": 156,
   "metadata": {
    "scrolled": true
   },
   "outputs": [
    {
     "data": {
      "text/plain": [
       "dict"
      ]
     },
     "execution_count": 156,
     "metadata": {},
     "output_type": "execute_result"
    }
   ],
   "source": [
    "type(x)"
   ]
  },
  {
   "cell_type": "code",
   "execution_count": 157,
   "metadata": {},
   "outputs": [],
   "source": [
    "x = set() # 공집합 "
   ]
  },
  {
   "cell_type": "markdown",
   "metadata": {},
   "source": [
    "- class에서 self 라는 뜻은 인스턴스 시킨다는 것 "
   ]
  },
  {
   "cell_type": "code",
   "execution_count": 158,
   "metadata": {},
   "outputs": [
    {
     "data": {
      "text/plain": [
       "set"
      ]
     },
     "execution_count": 158,
     "metadata": {},
     "output_type": "execute_result"
    }
   ],
   "source": [
    "type(x)"
   ]
  },
  {
   "cell_type": "markdown",
   "metadata": {},
   "source": [
    "### dict"
   ]
  },
  {
   "cell_type": "code",
   "execution_count": 163,
   "metadata": {
    "scrolled": true
   },
   "outputs": [
    {
     "ename": "TypeError",
     "evalue": "unhashable type: 'list'",
     "output_type": "error",
     "traceback": [
      "\u001b[1;31m---------------------------------------------------------------------------\u001b[0m",
      "\u001b[1;31mTypeError\u001b[0m                                 Traceback (most recent call last)",
      "\u001b[1;32m<ipython-input-163-546a239e1fd8>\u001b[0m in \u001b[0;36m<module>\u001b[1;34m\u001b[0m\n\u001b[1;32m----> 1\u001b[1;33m \u001b[0ma\u001b[0m \u001b[1;33m=\u001b[0m \u001b[1;33m{\u001b[0m\u001b[1;33m[\u001b[0m\u001b[1;36m1\u001b[0m\u001b[1;33m,\u001b[0m\u001b[1;36m2\u001b[0m\u001b[1;33m]\u001b[0m\u001b[1;33m:\u001b[0m\u001b[1;36m1\u001b[0m\u001b[1;33m}\u001b[0m\u001b[1;33m\u001b[0m\u001b[1;33m\u001b[0m\u001b[0m\n\u001b[0m",
      "\u001b[1;31mTypeError\u001b[0m: unhashable type: 'list'"
     ]
    }
   ],
   "source": [
    "a = {[1,2]:1}"
   ]
  },
  {
   "cell_type": "code",
   "execution_count": 165,
   "metadata": {},
   "outputs": [
    {
     "data": {
      "text/plain": [
       "list"
      ]
     },
     "execution_count": 165,
     "metadata": {},
     "output_type": "execute_result"
    }
   ],
   "source": [
    "type(a) "
   ]
  },
  {
   "cell_type": "code",
   "execution_count": 167,
   "metadata": {},
   "outputs": [],
   "source": [
    "b = {1:2,2:3}"
   ]
  },
  {
   "cell_type": "code",
   "execution_count": 172,
   "metadata": {},
   "outputs": [],
   "source": [
    "b[3] = 4"
   ]
  },
  {
   "cell_type": "code",
   "execution_count": 174,
   "metadata": {},
   "outputs": [
    {
     "data": {
      "text/plain": [
       "dict"
      ]
     },
     "execution_count": 174,
     "metadata": {},
     "output_type": "execute_result"
    }
   ],
   "source": [
    "type(b)"
   ]
  },
  {
   "cell_type": "code",
   "execution_count": 176,
   "metadata": {},
   "outputs": [
    {
     "data": {
      "text/plain": [
       "{'a': 1, 'b': 2}"
      ]
     },
     "execution_count": 176,
     "metadata": {},
     "output_type": "execute_result"
    }
   ],
   "source": [
    "dict(a=1, b=2) # 이렇게 할 경우 문자만 key로 올 수 있다. "
   ]
  },
  {
   "cell_type": "markdown",
   "metadata": {},
   "source": [
    "### 다중 상속 \n",
    "- duck typing "
   ]
  },
  {
   "cell_type": "markdown",
   "metadata": {},
   "source": [
    "### 조건문  "
   ]
  },
  {
   "cell_type": "code",
   "execution_count": 178,
   "metadata": {},
   "outputs": [
    {
     "data": {
      "text/plain": [
       "False"
      ]
     },
     "execution_count": 178,
     "metadata": {},
     "output_type": "execute_result"
    }
   ],
   "source": [
    "1==2 # 값이 같느냐 다르나"
   ]
  },
  {
   "cell_type": "code",
   "execution_count": 180,
   "metadata": {},
   "outputs": [
    {
     "data": {
      "text/plain": [
       "False"
      ]
     },
     "execution_count": 180,
     "metadata": {},
     "output_type": "execute_result"
    }
   ],
   "source": [
    "1 is 2  # 값 + id값 같냐, 다르냐 "
   ]
  },
  {
   "cell_type": "code",
   "execution_count": 186,
   "metadata": {},
   "outputs": [],
   "source": [
    "a = 513\n",
    "b = 513"
   ]
  },
  {
   "cell_type": "code",
   "execution_count": 187,
   "metadata": {},
   "outputs": [
    {
     "data": {
      "text/plain": [
       "True"
      ]
     },
     "execution_count": 187,
     "metadata": {},
     "output_type": "execute_result"
    }
   ],
   "source": [
    "a == b"
   ]
  },
  {
   "cell_type": "code",
   "execution_count": 188,
   "metadata": {},
   "outputs": [
    {
     "data": {
      "text/plain": [
       "False"
      ]
     },
     "execution_count": 188,
     "metadata": {},
     "output_type": "execute_result"
    }
   ],
   "source": [
    "a is b"
   ]
  },
  {
   "cell_type": "code",
   "execution_count": 189,
   "metadata": {},
   "outputs": [
    {
     "data": {
      "text/plain": [
       "1769324068784"
      ]
     },
     "execution_count": 189,
     "metadata": {},
     "output_type": "execute_result"
    }
   ],
   "source": [
    "id(a)"
   ]
  },
  {
   "cell_type": "code",
   "execution_count": 190,
   "metadata": {},
   "outputs": [
    {
     "data": {
      "text/plain": [
       "1769324068752"
      ]
     },
     "execution_count": 190,
     "metadata": {},
     "output_type": "execute_result"
    }
   ],
   "source": [
    "id(b)"
   ]
  },
  {
   "cell_type": "code",
   "execution_count": 192,
   "metadata": {},
   "outputs": [
    {
     "name": "stdout",
     "output_type": "stream",
     "text": [
      "F\n"
     ]
    }
   ],
   "source": [
    "a = 1\n",
    "if '':\n",
    "    print('T')\n",
    "else:\n",
    "    print('F')"
   ]
  },
  {
   "cell_type": "code",
   "execution_count": 1,
   "metadata": {},
   "outputs": [
    {
     "name": "stdout",
     "output_type": "stream",
     "text": [
      "F\n"
     ]
    }
   ],
   "source": [
    "a = 1\n",
    "if None:\n",
    "    print('T')\n",
    "else:\n",
    "    print('F')"
   ]
  },
  {
   "cell_type": "code",
   "execution_count": 197,
   "metadata": {},
   "outputs": [
    {
     "name": "stdout",
     "output_type": "stream",
     "text": [
      "F\n"
     ]
    }
   ],
   "source": [
    "a = 1\n",
    "if bool(): # 인스턴스할 때 아무것도 넣지 않으면 false로 나온다. \n",
    "    print('T')\n",
    "else:\n",
    "    print('F')"
   ]
  },
  {
   "cell_type": "code",
   "execution_count": 194,
   "metadata": {},
   "outputs": [
    {
     "data": {
      "text/plain": [
       "False"
      ]
     },
     "execution_count": 194,
     "metadata": {},
     "output_type": "execute_result"
    }
   ],
   "source": [
    "None == False"
   ]
  },
  {
   "cell_type": "code",
   "execution_count": 203,
   "metadata": {},
   "outputs": [
    {
     "data": {
      "text/plain": [
       "True"
      ]
     },
     "execution_count": 203,
     "metadata": {},
     "output_type": "execute_result"
    }
   ],
   "source": [
    "True and True"
   ]
  },
  {
   "cell_type": "code",
   "execution_count": 205,
   "metadata": {},
   "outputs": [
    {
     "data": {
      "text/plain": [
       "4"
      ]
     },
     "execution_count": 205,
     "metadata": {},
     "output_type": "execute_result"
    }
   ],
   "source": [
    "3 and 4 # 앞에 것이 true이면 뒤에 것을 반환 "
   ]
  },
  {
   "cell_type": "code",
   "execution_count": 211,
   "metadata": {},
   "outputs": [
    {
     "data": {
      "text/plain": [
       "3"
      ]
     },
     "execution_count": 211,
     "metadata": {},
     "output_type": "execute_result"
    }
   ],
   "source": [
    "3 or 1/0 # 앞에 것이 true이면 앞에 것을 반환"
   ]
  },
  {
   "cell_type": "code",
   "execution_count": 207,
   "metadata": {},
   "outputs": [
    {
     "data": {
      "text/plain": [
       "''"
      ]
     },
     "execution_count": 207,
     "metadata": {},
     "output_type": "execute_result"
    }
   ],
   "source": [
    "''and 4"
   ]
  },
  {
   "cell_type": "code",
   "execution_count": 208,
   "metadata": {},
   "outputs": [
    {
     "data": {
      "text/plain": [
       "4"
      ]
     },
     "execution_count": 208,
     "metadata": {},
     "output_type": "execute_result"
    }
   ],
   "source": [
    "'' or 4"
   ]
  },
  {
   "cell_type": "code",
   "execution_count": 219,
   "metadata": {
    "scrolled": true
   },
   "outputs": [
    {
     "data": {
      "text/plain": [
       "3"
      ]
     },
     "execution_count": 219,
     "metadata": {},
     "output_type": "execute_result"
    }
   ],
   "source": [
    "max([3 or 1/0])"
   ]
  },
  {
   "cell_type": "markdown",
   "metadata": {},
   "source": [
    "### 반복문"
   ]
  },
  {
   "cell_type": "markdown",
   "metadata": {},
   "source": [
    "while문\n",
    "\n",
    "for문"
   ]
  },
  {
   "cell_type": "code",
   "execution_count": 220,
   "metadata": {},
   "outputs": [],
   "source": [
    "import dis "
   ]
  },
  {
   "cell_type": "code",
   "execution_count": 222,
   "metadata": {},
   "outputs": [],
   "source": [
    "def x():\n",
    "    for i in ranage(10):\n",
    "        print(i)"
   ]
  },
  {
   "cell_type": "code",
   "execution_count": 223,
   "metadata": {},
   "outputs": [
    {
     "name": "stdout",
     "output_type": "stream",
     "text": [
      "  2           0 SETUP_LOOP              24 (to 26)\n",
      "              2 LOAD_GLOBAL              0 (ranage)\n",
      "              4 LOAD_CONST               1 (10)\n",
      "              6 CALL_FUNCTION            1\n",
      "              8 GET_ITER\n",
      "        >>   10 FOR_ITER                12 (to 24)\n",
      "             12 STORE_FAST               0 (i)\n",
      "\n",
      "  3          14 LOAD_GLOBAL              1 (print)\n",
      "             16 LOAD_FAST                0 (i)\n",
      "             18 CALL_FUNCTION            1\n",
      "             20 POP_TOP\n",
      "             22 JUMP_ABSOLUTE           10\n",
      "        >>   24 POP_BLOCK\n",
      "        >>   26 LOAD_CONST               0 (None)\n",
      "             28 RETURN_VALUE\n"
     ]
    }
   ],
   "source": [
    "dis.dis(x)"
   ]
  },
  {
   "cell_type": "code",
   "execution_count": 225,
   "metadata": {},
   "outputs": [
    {
     "data": {
      "text/plain": [
       "True"
      ]
     },
     "execution_count": 225,
     "metadata": {},
     "output_type": "execute_result"
    }
   ],
   "source": [
    "1 in [1,2,3]  # container "
   ]
  },
  {
   "cell_type": "code",
   "execution_count": 226,
   "metadata": {
    "scrolled": true
   },
   "outputs": [
    {
     "name": "stdout",
     "output_type": "stream",
     "text": [
      "Membership test operations\n",
      "**************************\n",
      "\n",
      "The operators \"in\" and \"not in\" test for membership.  \"x in s\"\n",
      "evaluates to \"True\" if *x* is a member of *s*, and \"False\" otherwise.\n",
      "\"x not in s\" returns the negation of \"x in s\".  All built-in sequences\n",
      "and set types support this as well as dictionary, for which \"in\" tests\n",
      "whether the dictionary has a given key. For container types such as\n",
      "list, tuple, set, frozenset, dict, or collections.deque, the\n",
      "expression \"x in y\" is equivalent to \"any(x is e or x == e for e in\n",
      "y)\".\n",
      "\n",
      "For the string and bytes types, \"x in y\" is \"True\" if and only if *x*\n",
      "is a substring of *y*.  An equivalent test is \"y.find(x) != -1\".\n",
      "Empty strings are always considered to be a substring of any other\n",
      "string, so \"\"\" in \"abc\"\" will return \"True\".\n",
      "\n",
      "For user-defined classes which define the \"__contains__()\" method, \"x\n",
      "in y\" returns \"True\" if \"y.__contains__(x)\" returns a true value, and\n",
      "\"False\" otherwise.\n",
      "\n",
      "For user-defined classes which do not define \"__contains__()\" but do\n",
      "define \"__iter__()\", \"x in y\" is \"True\" if some value \"z\" with \"x ==\n",
      "z\" is produced while iterating over \"y\".  If an exception is raised\n",
      "during the iteration, it is as if \"in\" raised that exception.\n",
      "\n",
      "Lastly, the old-style iteration protocol is tried: if a class defines\n",
      "\"__getitem__()\", \"x in y\" is \"True\" if and only if there is a non-\n",
      "negative integer index *i* such that \"x == y[i]\", and all lower\n",
      "integer indices do not raise \"IndexError\" exception.  (If any other\n",
      "exception is raised, it is as if \"in\" raised that exception).\n",
      "\n",
      "The operator \"not in\" is defined to have the inverse true value of\n",
      "\"in\".\n",
      "\n",
      "Related help topics: SEQUENCEMETHODS\n",
      "\n"
     ]
    }
   ],
   "source": [
    "help('in')"
   ]
  },
  {
   "cell_type": "code",
   "execution_count": 232,
   "metadata": {},
   "outputs": [
    {
     "data": {
      "text/plain": [
       "True"
      ]
     },
     "execution_count": 232,
     "metadata": {},
     "output_type": "execute_result"
    }
   ],
   "source": [
    "'1' not in range(10)"
   ]
  },
  {
   "cell_type": "code",
   "execution_count": 233,
   "metadata": {},
   "outputs": [
    {
     "data": {
      "text/plain": [
       "True"
      ]
     },
     "execution_count": 233,
     "metadata": {},
     "output_type": "execute_result"
    }
   ],
   "source": [
    "a is not b"
   ]
  },
  {
   "cell_type": "code",
   "execution_count": 234,
   "metadata": {},
   "outputs": [
    {
     "data": {
      "text/plain": [
       "(1, 513)"
      ]
     },
     "execution_count": 234,
     "metadata": {},
     "output_type": "execute_result"
    }
   ],
   "source": [
    "a, b"
   ]
  },
  {
   "cell_type": "markdown",
   "metadata": {},
   "source": [
    "# 11월 5일 (2일차) "
   ]
  },
  {
   "cell_type": "markdown",
   "metadata": {},
   "source": [
    "## 조건문"
   ]
  },
  {
   "cell_type": "code",
   "execution_count": 15,
   "metadata": {},
   "outputs": [],
   "source": [
    "def x():\n",
    "    for i in range(10):\n",
    "        if i ==5:\n",
    "            break\n",
    "        print(i)\n",
    "    else:\n",
    "        print('i')"
   ]
  },
  {
   "cell_type": "code",
   "execution_count": 16,
   "metadata": {},
   "outputs": [],
   "source": [
    "import dis"
   ]
  },
  {
   "cell_type": "code",
   "execution_count": 17,
   "metadata": {},
   "outputs": [
    {
     "name": "stdout",
     "output_type": "stream",
     "text": [
      "  2           0 SETUP_LOOP              42 (to 44)\n",
      "              2 LOAD_GLOBAL              0 (range)\n",
      "              4 LOAD_CONST               1 (10)\n",
      "              6 CALL_FUNCTION            1\n",
      "              8 GET_ITER\n",
      "        >>   10 FOR_ITER                22 (to 34)\n",
      "             12 STORE_FAST               0 (i)\n",
      "\n",
      "  3          14 LOAD_FAST                0 (i)\n",
      "             16 LOAD_CONST               2 (5)\n",
      "             18 COMPARE_OP               2 (==)\n",
      "             20 POP_JUMP_IF_FALSE       24\n",
      "\n",
      "  4          22 BREAK_LOOP\n",
      "\n",
      "  5     >>   24 LOAD_GLOBAL              1 (print)\n",
      "             26 LOAD_FAST                0 (i)\n",
      "             28 CALL_FUNCTION            1\n",
      "             30 POP_TOP\n",
      "             32 JUMP_ABSOLUTE           10\n",
      "        >>   34 POP_BLOCK\n",
      "\n",
      "  7          36 LOAD_GLOBAL              1 (print)\n",
      "             38 LOAD_CONST               3 ('i')\n",
      "             40 CALL_FUNCTION            1\n",
      "             42 POP_TOP\n",
      "        >>   44 LOAD_CONST               0 (None)\n",
      "             46 RETURN_VALUE\n"
     ]
    }
   ],
   "source": [
    "dis.dis(x)"
   ]
  },
  {
   "cell_type": "markdown",
   "metadata": {},
   "source": [
    "**iterator**\n",
    "메모리 효율을 극대화시킬 수 있는 것이 iterator라는 것이다. 또한 속도도 빠르고 실행시 메모리를 할당한다. \n",
    "대신 구동할 때마다 속도차이가 있다. \n",
    "iterable은 파이썬에 아주 많다. \n",
    "next()를 사용할 수 있다. \n",
    "\n",
    "**iterable**\n",
    "iterator로 바꿀 수 있는 것\n",
    "순회, 반복 가능한 것(요소 하나씩 뽑아냄)\n",
    "for 뒤에 사용할 수 있는 container \n",
    "container은 싹다 iterable \n",
    "iterator를 얻을 수 있는 객체는 iterable 이다. "
   ]
  },
  {
   "cell_type": "markdown",
   "metadata": {},
   "source": [
    "iterable의 예시\n",
    "- all\n",
    "- any\n",
    "- sum"
   ]
  },
  {
   "cell_type": "markdown",
   "metadata": {},
   "source": [
    "## 반복문 2가지: for vs while "
   ]
  },
  {
   "cell_type": "code",
   "execution_count": 18,
   "metadata": {},
   "outputs": [
    {
     "name": "stdout",
     "output_type": "stream",
     "text": [
      "0\n",
      "1\n",
      "2\n",
      "3\n",
      "4\n",
      "5\n",
      "6\n",
      "7\n",
      "8\n",
      "9\n"
     ]
    }
   ],
   "source": [
    "for i in range(10): # element base이다. \n",
    "    print(i) # iterable인 애들이 올 수 있다. "
   ]
  },
  {
   "cell_type": "code",
   "execution_count": 5,
   "metadata": {},
   "outputs": [
    {
     "name": "stdout",
     "output_type": "stream",
     "text": [
      "10\n",
      "9\n",
      "8\n",
      "7\n",
      "6\n",
      "5\n",
      "4\n",
      "3\n",
      "2\n",
      "T\n"
     ]
    }
   ],
   "source": [
    "i = 10\n",
    "while i>1: # index base이다. - 조건을 가지는데 조건이 index base이다.\n",
    "    print(i)\n",
    "    i -=1 # break만 안걸리면 esle가 찍힌다. \n",
    "else: \n",
    "    print('T')"
   ]
  },
  {
   "cell_type": "code",
   "execution_count": 8,
   "metadata": {},
   "outputs": [
    {
     "name": "stdout",
     "output_type": "stream",
     "text": [
      "3\n",
      "3\n",
      "3\n",
      "3\n",
      "3\n",
      "3\n",
      "3\n",
      "'3'\n",
      "'3'\n",
      "3\n"
     ]
    },
    {
     "ename": "KeyboardInterrupt",
     "evalue": "",
     "output_type": "error",
     "traceback": [
      "\u001b[1;31m---------------------------------------------------------------------------\u001b[0m",
      "\u001b[1;31mKeyboardInterrupt\u001b[0m                         Traceback (most recent call last)",
      "\u001b[1;32m~\\Anaconda3\\lib\\site-packages\\ipykernel\\kernelbase.py\u001b[0m in \u001b[0;36m_input_request\u001b[1;34m(self, prompt, ident, parent, password)\u001b[0m\n\u001b[0;32m    877\u001b[0m             \u001b[1;32mtry\u001b[0m\u001b[1;33m:\u001b[0m\u001b[1;33m\u001b[0m\u001b[1;33m\u001b[0m\u001b[0m\n\u001b[1;32m--> 878\u001b[1;33m                 \u001b[0mident\u001b[0m\u001b[1;33m,\u001b[0m \u001b[0mreply\u001b[0m \u001b[1;33m=\u001b[0m \u001b[0mself\u001b[0m\u001b[1;33m.\u001b[0m\u001b[0msession\u001b[0m\u001b[1;33m.\u001b[0m\u001b[0mrecv\u001b[0m\u001b[1;33m(\u001b[0m\u001b[0mself\u001b[0m\u001b[1;33m.\u001b[0m\u001b[0mstdin_socket\u001b[0m\u001b[1;33m,\u001b[0m \u001b[1;36m0\u001b[0m\u001b[1;33m)\u001b[0m\u001b[1;33m\u001b[0m\u001b[1;33m\u001b[0m\u001b[0m\n\u001b[0m\u001b[0;32m    879\u001b[0m             \u001b[1;32mexcept\u001b[0m \u001b[0mException\u001b[0m\u001b[1;33m:\u001b[0m\u001b[1;33m\u001b[0m\u001b[1;33m\u001b[0m\u001b[0m\n",
      "\u001b[1;32m~\\Anaconda3\\lib\\site-packages\\jupyter_client\\session.py\u001b[0m in \u001b[0;36mrecv\u001b[1;34m(self, socket, mode, content, copy)\u001b[0m\n\u001b[0;32m    802\u001b[0m         \u001b[1;32mtry\u001b[0m\u001b[1;33m:\u001b[0m\u001b[1;33m\u001b[0m\u001b[1;33m\u001b[0m\u001b[0m\n\u001b[1;32m--> 803\u001b[1;33m             \u001b[0mmsg_list\u001b[0m \u001b[1;33m=\u001b[0m \u001b[0msocket\u001b[0m\u001b[1;33m.\u001b[0m\u001b[0mrecv_multipart\u001b[0m\u001b[1;33m(\u001b[0m\u001b[0mmode\u001b[0m\u001b[1;33m,\u001b[0m \u001b[0mcopy\u001b[0m\u001b[1;33m=\u001b[0m\u001b[0mcopy\u001b[0m\u001b[1;33m)\u001b[0m\u001b[1;33m\u001b[0m\u001b[1;33m\u001b[0m\u001b[0m\n\u001b[0m\u001b[0;32m    804\u001b[0m         \u001b[1;32mexcept\u001b[0m \u001b[0mzmq\u001b[0m\u001b[1;33m.\u001b[0m\u001b[0mZMQError\u001b[0m \u001b[1;32mas\u001b[0m \u001b[0me\u001b[0m\u001b[1;33m:\u001b[0m\u001b[1;33m\u001b[0m\u001b[1;33m\u001b[0m\u001b[0m\n",
      "\u001b[1;32m~\\Anaconda3\\lib\\site-packages\\zmq\\sugar\\socket.py\u001b[0m in \u001b[0;36mrecv_multipart\u001b[1;34m(self, flags, copy, track)\u001b[0m\n\u001b[0;32m    469\u001b[0m         \"\"\"\n\u001b[1;32m--> 470\u001b[1;33m         \u001b[0mparts\u001b[0m \u001b[1;33m=\u001b[0m \u001b[1;33m[\u001b[0m\u001b[0mself\u001b[0m\u001b[1;33m.\u001b[0m\u001b[0mrecv\u001b[0m\u001b[1;33m(\u001b[0m\u001b[0mflags\u001b[0m\u001b[1;33m,\u001b[0m \u001b[0mcopy\u001b[0m\u001b[1;33m=\u001b[0m\u001b[0mcopy\u001b[0m\u001b[1;33m,\u001b[0m \u001b[0mtrack\u001b[0m\u001b[1;33m=\u001b[0m\u001b[0mtrack\u001b[0m\u001b[1;33m)\u001b[0m\u001b[1;33m]\u001b[0m\u001b[1;33m\u001b[0m\u001b[1;33m\u001b[0m\u001b[0m\n\u001b[0m\u001b[0;32m    471\u001b[0m         \u001b[1;31m# have first part already, only loop while more to receive\u001b[0m\u001b[1;33m\u001b[0m\u001b[1;33m\u001b[0m\u001b[1;33m\u001b[0m\u001b[0m\n",
      "\u001b[1;32mzmq/backend/cython/socket.pyx\u001b[0m in \u001b[0;36mzmq.backend.cython.socket.Socket.recv\u001b[1;34m()\u001b[0m\n",
      "\u001b[1;32mzmq/backend/cython/socket.pyx\u001b[0m in \u001b[0;36mzmq.backend.cython.socket.Socket.recv\u001b[1;34m()\u001b[0m\n",
      "\u001b[1;32mzmq/backend/cython/socket.pyx\u001b[0m in \u001b[0;36mzmq.backend.cython.socket._recv_copy\u001b[1;34m()\u001b[0m\n",
      "\u001b[1;32m~\\Anaconda3\\lib\\site-packages\\zmq\\backend\\cython\\checkrc.pxd\u001b[0m in \u001b[0;36mzmq.backend.cython.checkrc._check_rc\u001b[1;34m()\u001b[0m\n",
      "\u001b[1;31mKeyboardInterrupt\u001b[0m: ",
      "\nDuring handling of the above exception, another exception occurred:\n",
      "\u001b[1;31mKeyboardInterrupt\u001b[0m                         Traceback (most recent call last)",
      "\u001b[1;32m<ipython-input-8-3e09a838dd65>\u001b[0m in \u001b[0;36m<module>\u001b[1;34m\u001b[0m\n\u001b[0;32m      1\u001b[0m \u001b[1;32mwhile\u001b[0m \u001b[1;32mTrue\u001b[0m\u001b[1;33m:\u001b[0m \u001b[1;31m# index base이다. - 조건을 가지는데 조건이 index base이다.\u001b[0m\u001b[1;33m\u001b[0m\u001b[1;33m\u001b[0m\u001b[0m\n\u001b[1;32m----> 2\u001b[1;33m     \u001b[0ma\u001b[0m \u001b[1;33m=\u001b[0m \u001b[0minput\u001b[0m\u001b[1;33m(\u001b[0m\u001b[1;33m)\u001b[0m\u001b[1;33m\u001b[0m\u001b[1;33m\u001b[0m\u001b[0m\n\u001b[0m\u001b[0;32m      3\u001b[0m     \u001b[1;32mif\u001b[0m \u001b[0ma\u001b[0m \u001b[1;33m==\u001b[0m \u001b[1;34m'a'\u001b[0m\u001b[1;33m:\u001b[0m\u001b[1;33m\u001b[0m\u001b[1;33m\u001b[0m\u001b[0m\n\u001b[0;32m      4\u001b[0m         \u001b[1;32mbreak\u001b[0m\u001b[1;33m\u001b[0m\u001b[1;33m\u001b[0m\u001b[0m\n",
      "\u001b[1;32m~\\Anaconda3\\lib\\site-packages\\ipykernel\\kernelbase.py\u001b[0m in \u001b[0;36mraw_input\u001b[1;34m(self, prompt)\u001b[0m\n\u001b[0;32m    851\u001b[0m             \u001b[0mself\u001b[0m\u001b[1;33m.\u001b[0m\u001b[0m_parent_ident\u001b[0m\u001b[1;33m,\u001b[0m\u001b[1;33m\u001b[0m\u001b[1;33m\u001b[0m\u001b[0m\n\u001b[0;32m    852\u001b[0m             \u001b[0mself\u001b[0m\u001b[1;33m.\u001b[0m\u001b[0m_parent_header\u001b[0m\u001b[1;33m,\u001b[0m\u001b[1;33m\u001b[0m\u001b[1;33m\u001b[0m\u001b[0m\n\u001b[1;32m--> 853\u001b[1;33m             \u001b[0mpassword\u001b[0m\u001b[1;33m=\u001b[0m\u001b[1;32mFalse\u001b[0m\u001b[1;33m,\u001b[0m\u001b[1;33m\u001b[0m\u001b[1;33m\u001b[0m\u001b[0m\n\u001b[0m\u001b[0;32m    854\u001b[0m         )\n\u001b[0;32m    855\u001b[0m \u001b[1;33m\u001b[0m\u001b[0m\n",
      "\u001b[1;32m~\\Anaconda3\\lib\\site-packages\\ipykernel\\kernelbase.py\u001b[0m in \u001b[0;36m_input_request\u001b[1;34m(self, prompt, ident, parent, password)\u001b[0m\n\u001b[0;32m    881\u001b[0m             \u001b[1;32mexcept\u001b[0m \u001b[0mKeyboardInterrupt\u001b[0m\u001b[1;33m:\u001b[0m\u001b[1;33m\u001b[0m\u001b[1;33m\u001b[0m\u001b[0m\n\u001b[0;32m    882\u001b[0m                 \u001b[1;31m# re-raise KeyboardInterrupt, to truncate traceback\u001b[0m\u001b[1;33m\u001b[0m\u001b[1;33m\u001b[0m\u001b[1;33m\u001b[0m\u001b[0m\n\u001b[1;32m--> 883\u001b[1;33m                 \u001b[1;32mraise\u001b[0m \u001b[0mKeyboardInterrupt\u001b[0m\u001b[1;33m\u001b[0m\u001b[1;33m\u001b[0m\u001b[0m\n\u001b[0m\u001b[0;32m    884\u001b[0m             \u001b[1;32melse\u001b[0m\u001b[1;33m:\u001b[0m\u001b[1;33m\u001b[0m\u001b[1;33m\u001b[0m\u001b[0m\n\u001b[0;32m    885\u001b[0m                 \u001b[1;32mbreak\u001b[0m\u001b[1;33m\u001b[0m\u001b[1;33m\u001b[0m\u001b[0m\n",
      "\u001b[1;31mKeyboardInterrupt\u001b[0m: "
     ]
    }
   ],
   "source": [
    "while True: # index base이다. - 조건을 가지는데 조건이 index base이다.\n",
    "    a = input()\n",
    "    if a == 'a':\n",
    "        break"
   ]
  },
  {
   "cell_type": "markdown",
   "metadata": {},
   "source": [
    "while은 무한루프를 걸 때 사용한다. \n",
    "else는 메모리를 많이 차지해서 else를 쓰지 말라고 하는 경우가 있다. \n",
    "* 파이썬 코딩의 기술 "
   ]
  },
  {
   "cell_type": "code",
   "execution_count": 14,
   "metadata": {
    "scrolled": true
   },
   "outputs": [],
   "source": [
    "# comprehension "
   ]
  },
  {
   "cell_type": "code",
   "execution_count": 15,
   "metadata": {},
   "outputs": [],
   "source": [
    "t = [y for y in range(10)]"
   ]
  },
  {
   "cell_type": "code",
   "execution_count": 17,
   "metadata": {},
   "outputs": [
    {
     "data": {
      "text/plain": [
       "[0, 1, 2, 3, 4, 5, 6, 7, 8, 9]"
      ]
     },
     "execution_count": 17,
     "metadata": {},
     "output_type": "execute_result"
    }
   ],
   "source": [
    "t"
   ]
  },
  {
   "cell_type": "markdown",
   "metadata": {},
   "source": [
    "## 예외 처리 "
   ]
  },
  {
   "cell_type": "markdown",
   "metadata": {},
   "source": [
    "print 찍는 것 보다 파이썬 자체에서는 에러를 발생시킨다. \n",
    "파이썬은 EAFP(Easier to ask for forgiveness than permission)이다. 따라서 허락보다는 용서를 구하기가 쉽다. 파이선의 철학이다. \n",
    "따라서 에러를 발생시키면서 프로그램을 진행시키는 게 좋다. print를 하면서 일일이 찾기보다는 에러 발생시키는 것을 더 좋아한다. \n",
    "\n",
    "파이썬은 느린언어이다. 속도를 조금이라도 빠르게하고 코딩 흐름을 우와하게 하기 위해서 에러를 발생시키는 것을 추천한다. \n",
    "\n",
    "이와 반대되는것은 C와 같은 다른 언어에서 자주 사용되는 LBYL 스타일이라고한다. \n",
    "\n",
    "하지만 DataSicence 분에야서는 많이 사용하지 않는다.\n",
    "웹이나 자동화 등 사용자로부터 입력을 받거나 외부 조건에 의해 오류가 많이 날 수 밖에 없는 환경에서는 굉장히 중요하다. \n",
    "따라서 오류가 나더라도 중단하지 않고 실행 시켜야 하는 경우 대비해서 예외처리문을 삽입하는 것이다. "
   ]
  },
  {
   "cell_type": "code",
   "execution_count": 267,
   "metadata": {},
   "outputs": [
    {
     "data": {
      "text/plain": [
       "True"
      ]
     },
     "execution_count": 267,
     "metadata": {},
     "output_type": "execute_result"
    }
   ],
   "source": [
    "'a' > 'A'"
   ]
  },
  {
   "cell_type": "code",
   "execution_count": 18,
   "metadata": {},
   "outputs": [],
   "source": [
    "i = 10"
   ]
  },
  {
   "cell_type": "code",
   "execution_count": 23,
   "metadata": {
    "scrolled": true
   },
   "outputs": [
    {
     "ename": "AssertionError",
     "evalue": "",
     "output_type": "error",
     "traceback": [
      "\u001b[1;31m---------------------------------------------------------------------------\u001b[0m",
      "\u001b[1;31mAssertionError\u001b[0m                            Traceback (most recent call last)",
      "\u001b[1;32m<ipython-input-23-de1c51cd4815>\u001b[0m in \u001b[0;36m<module>\u001b[1;34m\u001b[0m\n\u001b[1;32m----> 1\u001b[1;33m \u001b[1;32massert\u001b[0m \u001b[0mi\u001b[0m \u001b[1;33m>=\u001b[0m \u001b[1;36m11\u001b[0m\u001b[1;33m\u001b[0m\u001b[1;33m\u001b[0m\u001b[0m\n\u001b[0m",
      "\u001b[1;31mAssertionError\u001b[0m: "
     ]
    }
   ],
   "source": [
    "assert i >= 11 "
   ]
  },
  {
   "cell_type": "code",
   "execution_count": 21,
   "metadata": {},
   "outputs": [
    {
     "ename": "Exception",
     "evalue": "",
     "output_type": "error",
     "traceback": [
      "\u001b[1;31m---------------------------------------------------------------------------\u001b[0m",
      "\u001b[1;31mException\u001b[0m                                 Traceback (most recent call last)",
      "\u001b[1;32m<ipython-input-21-61271f40c299>\u001b[0m in \u001b[0;36m<module>\u001b[1;34m\u001b[0m\n\u001b[0;32m      1\u001b[0m \u001b[1;32mif\u001b[0m \u001b[0mi\u001b[0m \u001b[1;33m>\u001b[0m\u001b[1;36m1\u001b[0m\u001b[1;33m:\u001b[0m\u001b[1;33m\u001b[0m\u001b[1;33m\u001b[0m\u001b[0m\n\u001b[1;32m----> 2\u001b[1;33m     \u001b[1;32mraise\u001b[0m \u001b[0mException\u001b[0m\u001b[1;33m\u001b[0m\u001b[1;33m\u001b[0m\u001b[0m\n\u001b[0m",
      "\u001b[1;31mException\u001b[0m: "
     ]
    }
   ],
   "source": [
    "if i >1:\n",
    "    raise Exception # 에러를 강제로 발생해줄 수 있다. "
   ]
  },
  {
   "cell_type": "markdown",
   "metadata": {},
   "source": [
    "논리가 안맞아서 에러가 나는 RUNTIME 에러를 잡아낼 수 있다. \n",
    "문법은 맞춰야한다. 에러를 잡아내기 위한 구조는 크게\n",
    "try: \n",
    "except: 에러가 나면 except 구문이 실행된다. \n",
    "else: 에러가 나지 않으면 실행 \n",
    "finally: 에러 상관없이 실행 "
   ]
  },
  {
   "cell_type": "code",
   "execution_count": 35,
   "metadata": {},
   "outputs": [
    {
     "name": "stdout",
     "output_type": "stream",
     "text": [
      "Zero\n",
      "finally\n"
     ]
    }
   ],
   "source": [
    "try:\n",
    "    1/0\n",
    "except ZeroDivisionError:\n",
    "    print('Zero')\n",
    "except:  # 나머지 모든 에러에 대해 처리해 주겠다는 것. 따라서 맨 끝에 적어야한다. \n",
    "    print('e') # 에러가나면 except 구문이 실행된다.\n",
    "else: \n",
    "    print('else') # 에러가 나지 않으면 실행 \n",
    "finally: \n",
    "    print('finally')"
   ]
  },
  {
   "cell_type": "code",
   "execution_count": 32,
   "metadata": {},
   "outputs": [
    {
     "name": "stdout",
     "output_type": "stream",
     "text": [
      "Zero\n"
     ]
    }
   ],
   "source": [
    "try:\n",
    "    1/0\n",
    "except ZeroDivisionError: # error 조건을 줄 수 있다. \n",
    "    print('Zero')"
   ]
  },
  {
   "cell_type": "code",
   "execution_count": 55,
   "metadata": {},
   "outputs": [
    {
     "name": "stdout",
     "output_type": "stream",
     "text": [
      "<slot wrapper '__repr__' of 'BaseException' objects>\n"
     ]
    }
   ],
   "source": [
    "try:\n",
    "    1/0\n",
    "except Exception as e: \n",
    "    print(Exception.__repr__)  # REPR 개념을 또 알아야 한다. "
   ]
  },
  {
   "cell_type": "markdown",
   "metadata": {},
   "source": [
    "except as : 설명을 해주는 객체와 상관없이 설명해주는 독특한 애? \n",
    "with as : 이름하고 똑같이 쓰는 것 (with open as e:) \n",
    "          assignment를 한다. \n",
    "import as : 이름하고 똑같이 쓰는 것 "
   ]
  },
  {
   "cell_type": "code",
   "execution_count": 39,
   "metadata": {},
   "outputs": [],
   "source": [
    "a = 1"
   ]
  },
  {
   "cell_type": "markdown",
   "metadata": {},
   "source": [
    "dir(a)\n",
    "\n",
    "설명을 해주는 객체 \n",
    "\n",
    "doc: docstring을 지원해준다. (설명) ?\n",
    "    클래스, 함수, 모듈에서 첫 번째 표현식으로 나타나는 문자열 리터럴. 스위트가 실행될 때는 무시되지만, 컴파일러에 의해 인지되어 둘러싼 클래스,함수, 모듈의 __doc__ 어트리뷰트로 삽입된다. 인트로스팩션을 통해 사용할 수 있으므로, 객체의 설명서를 위한 규범적인 장소이다. \n",
    "str: 클래스에 대해서 설명을 해준다. \n",
    "repr: 클래스에 대해서 설명. "
   ]
  },
  {
   "cell_type": "code",
   "execution_count": 42,
   "metadata": {},
   "outputs": [],
   "source": [
    "class X:\n",
    "    '''test'''\n",
    "    pass"
   ]
  },
  {
   "cell_type": "code",
   "execution_count": 43,
   "metadata": {},
   "outputs": [],
   "source": [
    "x = X()  # Docstring 설명 "
   ]
  },
  {
   "cell_type": "code",
   "execution_count": 45,
   "metadata": {
    "scrolled": true
   },
   "outputs": [
    {
     "data": {
      "text/plain": [
       "'test'"
      ]
     },
     "execution_count": 45,
     "metadata": {},
     "output_type": "execute_result"
    }
   ],
   "source": [
    "X.__doc__\n",
    "# 클래스, 함수, 모듈에서 첫 번째 표현식으로 나타나는 문자열 리터럴. \n"
   ]
  },
  {
   "cell_type": "code",
   "execution_count": 49,
   "metadata": {},
   "outputs": [],
   "source": [
    "class X:\n",
    "    '''test'''\n",
    "    def __repr__(self):\n",
    "        return 'REPR' # 내가 이름을 호출 했을 때 나오는 이름 \n",
    "    def __str__(self):\n",
    "        return 'STR'"
   ]
  },
  {
   "cell_type": "code",
   "execution_count": 47,
   "metadata": {},
   "outputs": [],
   "source": [
    "x = X()"
   ]
  },
  {
   "cell_type": "code",
   "execution_count": 48,
   "metadata": {},
   "outputs": [
    {
     "data": {
      "text/plain": [
       "REPR"
      ]
     },
     "execution_count": 48,
     "metadata": {},
     "output_type": "execute_result"
    }
   ],
   "source": [
    "x # 이름을 호출 했을 때 표현해 주는 값\n",
    "# 프린트 안해도 나오는 것 "
   ]
  },
  {
   "cell_type": "code",
   "execution_count": 53,
   "metadata": {},
   "outputs": [
    {
     "name": "stdout",
     "output_type": "stream",
     "text": [
      "STR\n"
     ]
    }
   ],
   "source": [
    "print(X()) # 프린트 했을 때 나오는 값 "
   ]
  },
  {
   "cell_type": "code",
   "execution_count": 58,
   "metadata": {},
   "outputs": [
    {
     "data": {
      "text/plain": [
       "True"
      ]
     },
     "execution_count": 58,
     "metadata": {},
     "output_type": "execute_result"
    }
   ],
   "source": [
    "# 상속했는지 안했는지 알아보는 방법\n",
    "issubclass(bool,int) # bool이 int에서 상속받은 것 \n",
    "# predicate 함수 "
   ]
  },
  {
   "cell_type": "code",
   "execution_count": 59,
   "metadata": {},
   "outputs": [
    {
     "data": {
      "text/plain": [
       "True"
      ]
     },
     "execution_count": 59,
     "metadata": {},
     "output_type": "execute_result"
    }
   ],
   "source": [
    "issubclass(ZeroDivisionError, Exception)"
   ]
  },
  {
   "cell_type": "markdown",
   "metadata": {},
   "source": [
    "할당문\n",
    "조건문 \n",
    "반복문\n",
    "예외처리문 등등 \n",
    ": colon이 온다."
   ]
  },
  {
   "cell_type": "code",
   "execution_count": 71,
   "metadata": {},
   "outputs": [],
   "source": [
    "a = 3\n",
    "t = 3 if a>4 else 4 if a>2 else 5\n",
    "# 식이라서 할당할 수 있다. \n",
    "# 참이면 앞의 식이 나오고, 거짓이면 뒤 식이 나온다. \n",
    "# 식은 식안에 쓸 수 있다. 따라서 중첩시킬 수 있다. \n",
    "# 함수에 인자로 올 수 있다. "
   ]
  },
  {
   "cell_type": "markdown",
   "metadata": {},
   "source": [
    "식은 할당할 수 있고, 함수의 결과값으로 집어넣을 수 있고 중첩시킬 수 있다. "
   ]
  },
  {
   "cell_type": "markdown",
   "metadata": {},
   "source": [
    "선언문 : 재 사용하기 위해 정의하는 것 (메모리 공간에 박혀있다.)\n",
    "1. 함수 선언: 스네이크 방식 (소문자, 언더바) \n",
    "2. 클래스 선언 \n",
    "\n",
    "argument와 parameter 차이 \n",
    "* 선언문에서 쓰는 변수를 매개변수, parameter라고 한다. \n",
    "* 매개변수는 총 5-7가지라고 한다. \n",
    "- 매개변수와 인자의 개수는 같아야 한다. \n",
    "    - 매개변수는 선언문 내 default 값이다.\n",
    "    - 함수 호출할 때 쓰는 것은 인자이다. \n",
    "1. 포지셔널 방식\n",
    "    - x(2) 와 같이 위로만 제공될 수 있는 인자 \n",
    "    - 순서를 확인하므로, 처음부터 순서에 맞게 써야한다. \n",
    "2. 키워드 방식\n",
    "    - 이름을 두면서 사용하는 방식 x(a=2)\n",
    "    - 순서 상관없이 이름 찾아서 간다. \n",
    "    - 한번 키워드 방식을 쓰게 되면 그 다음부터는 키워드를 써야한다. \n",
    "3. 가변 방식 \n",
    "    - 가변 포지셔널 \n",
    "        + (*a) 이름 앞에 *가 붙으면 가변 포지셔널이다.\n",
    "        + 개수와 상관없이 계속 쓸 수 있다. \n",
    "        + 리턴이 tuple로 나온다.\n",
    "    - 가변 키워드\n",
    "        + (**a) 이름 앞에 **가 붙으면 가변 키워드 방식이다. \n",
    "        + 개수와 상관없이 계속 쓸 수 있다. \n",
    "        + 리턴이 dict으로 나온다. \n",
    "4. 포지셔널 온리 방식 \n",
    "    - ';': 포지셔널로만 써야한다. \n",
    "    - 예시) sum(..., /) \n",
    "        \n",
    "파이썬은 오버로딩을 지원하지 않는다. \n",
    "매개변수가 다르면 다른 함수로 취급하는 것을 오버로딩이라고 한다. \n",
    "ex. a(x), a(x,y), a(x,y,z) \n",
    "파이선은 오버로딩을 지원하지 않기 때문에 따라서 이름만 같으면 매개변수를 보지 않는다. 따라서 인자를 나눠서 만들 수 없기 때문에, 가능한 모든 인자를 집어 넣는다."
   ]
  },
  {
   "cell_type": "code",
   "execution_count": 92,
   "metadata": {},
   "outputs": [],
   "source": [
    "def x(a,b=3,c=4):\n",
    "    return a,b,c\n",
    "# 선언할 때 쓰는 안에 들어가는 것을 매개변수(parameter)이라고 한다. "
   ]
  },
  {
   "cell_type": "code",
   "execution_count": 97,
   "metadata": {},
   "outputs": [
    {
     "data": {
      "text/plain": [
       "(4, 3, 2)"
      ]
     },
     "execution_count": 97,
     "metadata": {},
     "output_type": "execute_result"
    }
   ],
   "source": [
    "x(4,b=3,c=2) # argument라고 한다. \n",
    "# 한번 키워드 쓰면 b=2 그 다음부터는 키워드 방식으로 써야한다. "
   ]
  },
  {
   "cell_type": "code",
   "execution_count": 103,
   "metadata": {},
   "outputs": [],
   "source": [
    "# 별표 다음에는 무조건 키워드 방식을 써야한다. \n",
    "def y(*, a):\n",
    "    return a "
   ]
  },
  {
   "cell_type": "code",
   "execution_count": 104,
   "metadata": {},
   "outputs": [
    {
     "data": {
      "text/plain": [
       "3"
      ]
     },
     "execution_count": 104,
     "metadata": {},
     "output_type": "execute_result"
    }
   ],
   "source": [
    "y(a=3)"
   ]
  },
  {
   "cell_type": "code",
   "execution_count": 105,
   "metadata": {},
   "outputs": [],
   "source": [
    "# 별표에 이름을 붙이면, 가변 포지셔널 방식이다. 개수 안맞춰도 계속 쓸 수 있다. \n",
    "def y(*a):\n",
    "    return a "
   ]
  },
  {
   "cell_type": "code",
   "execution_count": 106,
   "metadata": {},
   "outputs": [
    {
     "data": {
      "text/plain": [
       "(1, 2)"
      ]
     },
     "execution_count": 106,
     "metadata": {},
     "output_type": "execute_result"
    }
   ],
   "source": [
    "y(1,2)"
   ]
  },
  {
   "cell_type": "code",
   "execution_count": 108,
   "metadata": {},
   "outputs": [],
   "source": [
    "def y(*b, **a): # 가변 포지셔널, 가변 키워드 \n",
    "    return b,a"
   ]
  },
  {
   "cell_type": "code",
   "execution_count": 110,
   "metadata": {
    "scrolled": true
   },
   "outputs": [
    {
     "data": {
      "text/plain": [
       "((3, 4, 1), {'a': 3, 'b': 2})"
      ]
     },
     "execution_count": 110,
     "metadata": {},
     "output_type": "execute_result"
    }
   ],
   "source": [
    "y(3,4,1,a=3,b=2)"
   ]
  },
  {
   "cell_type": "code",
   "execution_count": 111,
   "metadata": {},
   "outputs": [],
   "source": [
    "# 예시) plt \n",
    "import matplotlib.pyplot as plt "
   ]
  },
  {
   "cell_type": "code",
   "execution_count": 115,
   "metadata": {},
   "outputs": [
    {
     "data": {
      "text/plain": [
       "[<matplotlib.lines.Line2D at 0x1d3f88a71d0>]"
      ]
     },
     "execution_count": 115,
     "metadata": {},
     "output_type": "execute_result"
    },
    {
     "data": {
      "image/png": "[encoded data removed]",
      "text/plain": [
       "<Figure size 432x288 with 1 Axes>"
      ]
     },
     "metadata": {
      "needs_background": "light"
     },
     "output_type": "display_data"
    }
   ],
   "source": [
    "plt.plot([1,2,3],[2,5,1]) # [x], y \n",
    "# [x] 뜻은 option이라는 뜻이다. 넣어도된고 안넣어도 된다는 뜻. "
   ]
  },
  {
   "cell_type": "code",
   "execution_count": null,
   "metadata": {},
   "outputs": [],
   "source": [
    "plt.hist()"
   ]
  },
  {
   "cell_type": "code",
   "execution_count": null,
   "metadata": {},
   "outputs": [],
   "source": [
    "# 가변 포지셔널"
   ]
  },
  {
   "cell_type": "code",
   "execution_count": 134,
   "metadata": {},
   "outputs": [],
   "source": [
    "def x(*a):\n",
    "    return a "
   ]
  },
  {
   "cell_type": "code",
   "execution_count": 135,
   "metadata": {},
   "outputs": [
    {
     "data": {
      "text/plain": [
       "([1, 2, 3, 4], [2, 3, 1])"
      ]
     },
     "execution_count": 135,
     "metadata": {},
     "output_type": "execute_result"
    }
   ],
   "source": [
    "x([1,2,3,4],[2,3,1])"
   ]
  },
  {
   "cell_type": "code",
   "execution_count": 136,
   "metadata": {},
   "outputs": [
    {
     "data": {
      "text/plain": [
       "(1, 2, 3)"
      ]
     },
     "execution_count": 136,
     "metadata": {},
     "output_type": "execute_result"
    }
   ],
   "source": [
    "x(*[1,2,3]) # 별포를 넣었더니 쪼개진다.(unpacking 기법)"
   ]
  },
  {
   "cell_type": "code",
   "execution_count": 137,
   "metadata": {},
   "outputs": [
    {
     "data": {
      "text/plain": [
       "(3, 2, [3, 2])"
      ]
     },
     "execution_count": 137,
     "metadata": {},
     "output_type": "execute_result"
    }
   ],
   "source": [
    "x(*[3,2,],[3,2])"
   ]
  },
  {
   "cell_type": "code",
   "execution_count": 138,
   "metadata": {},
   "outputs": [],
   "source": [
    "t = {'a':2, 'b':3, 'c':4}"
   ]
  },
  {
   "cell_type": "code",
   "execution_count": 139,
   "metadata": {},
   "outputs": [
    {
     "data": {
      "text/plain": [
       "('a', 'b', 'c')"
      ]
     },
     "execution_count": 139,
     "metadata": {},
     "output_type": "execute_result"
    }
   ],
   "source": [
    "x(*t) # keys만 들어간다."
   ]
  },
  {
   "cell_type": "code",
   "execution_count": null,
   "metadata": {},
   "outputs": [],
   "source": [
    "# 가변 키워드 "
   ]
  },
  {
   "cell_type": "code",
   "execution_count": 140,
   "metadata": {},
   "outputs": [],
   "source": [
    "def x(**a): # 가변 키워드 \n",
    "    return a "
   ]
  },
  {
   "cell_type": "code",
   "execution_count": 141,
   "metadata": {},
   "outputs": [
    {
     "data": {
      "text/plain": [
       "{'x': 3, 'y': 4}"
      ]
     },
     "execution_count": 141,
     "metadata": {},
     "output_type": "execute_result"
    }
   ],
   "source": [
    "x(x=3,y=4)"
   ]
  },
  {
   "cell_type": "code",
   "execution_count": 142,
   "metadata": {},
   "outputs": [],
   "source": [
    "t = {'a':3,'b':4,'c':5}"
   ]
  },
  {
   "cell_type": "code",
   "execution_count": 143,
   "metadata": {},
   "outputs": [
    {
     "data": {
      "text/plain": [
       "{'a': 3, 'b': 4, 'c': 5}"
      ]
     },
     "execution_count": 143,
     "metadata": {},
     "output_type": "execute_result"
    }
   ],
   "source": [
    "x(**t) # dictionary를 키워드 방식으로 바뀐다. "
   ]
  },
  {
   "cell_type": "code",
   "execution_count": null,
   "metadata": {},
   "outputs": [],
   "source": [
    "# 포지셔널 온리"
   ]
  },
  {
   "cell_type": "code",
   "execution_count": 151,
   "metadata": {},
   "outputs": [
    {
     "data": {
      "text/plain": [
       "31"
      ]
     },
     "execution_count": 151,
     "metadata": {},
     "output_type": "execute_result"
    }
   ],
   "source": [
    "sum([3,2,4], 22)\n",
    "# /: 포지셔널 온리 "
   ]
  },
  {
   "cell_type": "markdown",
   "metadata": {},
   "source": [
    "별표(*)의 총 7가지 방법\n",
    "1. Unpacking 방법에서 나머지 \n",
    "2. Only keyword\n",
    "3. Variable Positional\n",
    "4. Variable Keyword\n",
    "5. Unpacking (벗겨내기, list 쪼개기)\n",
    "6. Unpacking (dictionary)\n",
    "7. import에서 모두 "
   ]
  },
  {
   "cell_type": "markdown",
   "metadata": {},
   "source": [
    "### annotation \n",
    "사용자한테 제공할 문서만들기가 좋다. \n",
    "- 타입을 표시해준다. "
   ]
  },
  {
   "cell_type": "code",
   "execution_count": 174,
   "metadata": {},
   "outputs": [],
   "source": [
    "def xx(x: int) -> int:\n",
    "    return x  # 리턴이 int형으로 나온다. "
   ]
  },
  {
   "cell_type": "code",
   "execution_count": 181,
   "metadata": {},
   "outputs": [
    {
     "data": {
      "text/plain": [
       "'hi'"
      ]
     },
     "execution_count": 181,
     "metadata": {},
     "output_type": "execute_result"
    }
   ],
   "source": [
    "xx('hi')"
   ]
  },
  {
   "cell_type": "code",
   "execution_count": 182,
   "metadata": {},
   "outputs": [
    {
     "data": {
      "text/plain": [
       "{'x': int, 'return': int}"
      ]
     },
     "execution_count": 182,
     "metadata": {},
     "output_type": "execute_result"
    }
   ],
   "source": [
    "xx.__annotations__"
   ]
  },
  {
   "cell_type": "markdown",
   "metadata": {},
   "source": [
    "1. 파이썬함수는 higher order function \n",
    "- 정의 2가지 \n",
    "(1) argument 를 function으로 받을 수 있다. \n",
    "    + 함수를 인자로 받을 수 있다. \n",
    "(2) 리턴을 function으로 돌릴 수 있다. \n",
    "    + 함수를 리턴할 수 있다.\n",
    "\n",
    "\n",
    "2. first class function \n",
    "- 프로그래밍(타입,값)에서 1등으로 중요한 것은 '값'이다. \n",
    "- function을 객체처럼 사용할 수 있다. \n",
    "- 함수를 값처럼 사용할 수 있다. \n",
    "- java는 higher order function이지만 first class function은 아니다. \n",
    "\n",
    "* closure\n",
    "* decorator \n",
    "* meta class \n"
   ]
  },
  {
   "cell_type": "code",
   "execution_count": 193,
   "metadata": {},
   "outputs": [],
   "source": [
    "def x(f):\n",
    "    f('a') # 파이선에서는 ()를 붙있 수 있는 애들이 3가지 있다. \n",
    "# x가 함수. x에 결과값을 넣으면 리턴값이 된다. "
   ]
  },
  {
   "cell_type": "markdown",
   "metadata": {},
   "source": [
    "함수, 클래스, 클래스의 __call__ 은 ()를 붙일 수 있다. \n",
    "()를 붙일수있는 여부를 확인하는 내장함수인 callable()를 이용하여 확인해보며뇐다. "
   ]
  },
  {
   "cell_type": "code",
   "execution_count": 194,
   "metadata": {
    "scrolled": true
   },
   "outputs": [
    {
     "data": {
      "text/plain": [
       "True"
      ]
     },
     "execution_count": 194,
     "metadata": {},
     "output_type": "execute_result"
    }
   ],
   "source": [
    "callable(x)"
   ]
  },
  {
   "cell_type": "code",
   "execution_count": 196,
   "metadata": {},
   "outputs": [
    {
     "name": "stdout",
     "output_type": "stream",
     "text": [
      "a\n"
     ]
    }
   ],
   "source": [
    "# 함수를 인자로 받을 수 있다. \n",
    "x(print)"
   ]
  },
  {
   "cell_type": "markdown",
   "metadata": {},
   "source": [
    "## 함수의 인자로 함수가 들어가는 경우 \n",
    "\n",
    "map, filter, reduce "
   ]
  },
  {
   "cell_type": "markdown",
   "metadata": {},
   "source": [
    "이터러벌 넣는 애들의 특징은 for를 사용하지 않고 쓸 수 있다. 따라서 속도가 빠르다."
   ]
  },
  {
   "cell_type": "code",
   "execution_count": 206,
   "metadata": {},
   "outputs": [],
   "source": [
    "# map: 빅데이터에서 많이 쓴다. "
   ]
  },
  {
   "cell_type": "code",
   "execution_count": 210,
   "metadata": {},
   "outputs": [
    {
     "data": {
      "text/plain": [
       "[3, 4, 5, 6]"
      ]
     },
     "execution_count": 210,
     "metadata": {},
     "output_type": "execute_result"
    }
   ],
   "source": [
    "# map(self, /, *args, **kwargs)\n",
    "# list로 감싸주면 식이 보인다. \n",
    "list(map(lambda x:x+1, [2,3,4,5])) # 뒤에 iterable을 넣어주면 된다. "
   ]
  },
  {
   "cell_type": "code",
   "execution_count": 211,
   "metadata": {},
   "outputs": [
    {
     "data": {
      "text/plain": [
       "[5]"
      ]
     },
     "execution_count": 211,
     "metadata": {},
     "output_type": "execute_result"
    }
   ],
   "source": [
    "# filter\n",
    "# 맞는애들만 찾아서 돌려주는 것 \n",
    "list(filter(lambda x:x>4, [2,3,4,5]))"
   ]
  },
  {
   "cell_type": "code",
   "execution_count": 213,
   "metadata": {},
   "outputs": [],
   "source": [
    "# reduce \n",
    "# python3 에서는 functools 라이브러리 안에 들어가 있다. \n",
    "from functools import reduce \n",
    "# import 했으므로 함수이다. "
   ]
  },
  {
   "cell_type": "code",
   "execution_count": 214,
   "metadata": {},
   "outputs": [
    {
     "data": {
      "text/plain": [
       "15"
      ]
     },
     "execution_count": 214,
     "metadata": {},
     "output_type": "execute_result"
    }
   ],
   "source": [
    "# 값을 줄여주는 기능을 reduction이라고 한다.\n",
    "# 값을 축약하는 기능이다. (functional paradigm)\n",
    "# 아주 많이 쓰는 테크닉이다. \n",
    "reduce(lambda x,y:x+y, [1,2,3,4,5])"
   ]
  },
  {
   "cell_type": "code",
   "execution_count": 230,
   "metadata": {},
   "outputs": [
    {
     "name": "stdout",
     "output_type": "stream",
     "text": [
      "17.1 ms ± 1.14 ms per loop (mean ± std. dev. of 7 runs, 10 loops each)\n"
     ]
    }
   ],
   "source": [
    "%%timeit\n",
    "temp = []\n",
    "for i in range(100000):\n",
    "    temp.append(i+1)\n",
    "# 속도 측정 "
   ]
  },
  {
   "cell_type": "code",
   "execution_count": 229,
   "metadata": {},
   "outputs": [
    {
     "name": "stdout",
     "output_type": "stream",
     "text": [
      "715 ns ± 44.4 ns per loop (mean ± std. dev. of 7 runs, 1000000 loops each)\n"
     ]
    }
   ],
   "source": [
    "%%timeit\n",
    "map(lambda x:x+1, range(100000)) # 속도가 빠르다. "
   ]
  },
  {
   "cell_type": "code",
   "execution_count": 231,
   "metadata": {},
   "outputs": [],
   "source": [
    "# first class function"
   ]
  },
  {
   "cell_type": "code",
   "execution_count": 232,
   "metadata": {},
   "outputs": [],
   "source": [
    "x = [print, sum]"
   ]
  },
  {
   "cell_type": "code",
   "execution_count": 233,
   "metadata": {},
   "outputs": [
    {
     "name": "stdout",
     "output_type": "stream",
     "text": [
      "안녕\n"
     ]
    }
   ],
   "source": [
    "x[0]('안녕')"
   ]
  },
  {
   "cell_type": "markdown",
   "metadata": {},
   "source": [
    "* Higher order function\n",
    "* first class function \n",
    "\n",
    "\n",
    "- 객체 지향 4가지 개념 \n",
    "* encapsulation 캡슐화 \n",
    "함수 밖에서 함수 안에서 접근할 수 없다.\n",
    "함 수 안에서는 함수 밖에거 접근할 수 있는데, 그 경우는 안에 값이 없을 때이다. 하지만 값을 바꿀 수는 없다. \n",
    "\n",
    "* 추상화\n",
    "\n",
    "* 다형성\n",
    "\n",
    "* 상속"
   ]
  },
  {
   "cell_type": "code",
   "execution_count": 275,
   "metadata": {},
   "outputs": [],
   "source": [
    "def t():\n",
    "    aaaa = 1\n",
    "    aaaa += 1 # 이미 정의 되어있어야지 쓸 수있 다. \n",
    "    return aaaa"
   ]
  },
  {
   "cell_type": "code",
   "execution_count": 276,
   "metadata": {},
   "outputs": [],
   "source": [
    "aaaa = 3"
   ]
  },
  {
   "cell_type": "code",
   "execution_count": 277,
   "metadata": {
    "scrolled": false
   },
   "outputs": [
    {
     "data": {
      "text/plain": [
       "2"
      ]
     },
     "execution_count": 277,
     "metadata": {},
     "output_type": "execute_result"
    }
   ],
   "source": [
    "t()"
   ]
  },
  {
   "cell_type": "code",
   "execution_count": 247,
   "metadata": {},
   "outputs": [],
   "source": [
    "def t():\n",
    "    global aaaa # 함수 안에 있는 것과 밖에 있는 것의 싱크를 맞춰서 사용한다는 뜻이다. \n",
    "    aaaa+= 1 \n",
    "    return aaaa"
   ]
  },
  {
   "cell_type": "code",
   "execution_count": 248,
   "metadata": {
    "scrolled": true
   },
   "outputs": [
    {
     "data": {
      "text/plain": [
       "4"
      ]
     },
     "execution_count": 248,
     "metadata": {},
     "output_type": "execute_result"
    }
   ],
   "source": [
    "aaaa = 3\n",
    "t()"
   ]
  },
  {
   "cell_type": "markdown",
   "metadata": {},
   "source": [
    "# 11월 6일 "
   ]
  },
  {
   "cell_type": "markdown",
   "metadata": {},
   "source": [
    "https://docs.python.org/ko/3/howto/functional.\n",
    "\n",
    "## 함수\n",
    "\n",
    "함수형 프로그래밍 HOWTO \n",
    "\n",
    "- 형식적 증명 가능성으로 수학적 증명이 가능해야한다. \n",
    "\n",
    "함수형 프로그래밍(FP)\n",
    "왜 함수형 프로그래밍을 쓰는가? 함수형 패러다임이 요즘 다시 떴다. 그이유는 분산처리를 할 수 있기 때문이다. 프로세스 데이터 양이 많아지므로 분산처리가 필요하게 되었다. 또한 분리를 했기 때문에 디버깅할 때 편하다. 또한 분업을 하기가 편하다. 하지만 문제는 러닝커브가 크다는 것이다.(수학의 어려움) \n",
    "한번에 행렬연산을 하기가 좋다. \n",
    "수학처럼 추상화시켰기 때문에 코드가 짧고, 디버그하기가 쉽다.\n",
    "함수형 패러다임은 mutable이 없다. \n",
    "\n",
    "1. 첫번째 개념 (Avoiding) Flow Control\n",
    "- for를 사용하지 않는다는 것 \n",
    "for를 쓰면 안좋은 점 2가지 \n",
    "1) 코드가 길어질 때, 흐름찾기가 어렵다. \n",
    "2) 명령이 많아지므로 속도가 느려진다. \n",
    "함수형 패러다임에도 for를 쓰지 않는다. \n",
    "\n",
    "- Encapsulation \n",
    "안에서 밖에거 접근할 수는 있지만, 바꿀수는 없다.\n",
    "밖에서 안에 접근할 수 없다. \n",
    "\n",
    "- Comprehensions \n",
    "함수 for를 사용하지 않는 방법 4가지\n",
    "loop을 없앤 함수형 패러다임 \n",
    "1) iterater, generator \n",
    "2) comprehension\n",
    "3) map, filter, reuce\n",
    "4) recursion (재귀) \n",
    "    - 피보나치를 재귀형식으로 만들 수 있다. \n",
    "    - 하지만 다이나믹 프로그래밍을 하는게 좋다. (메모리상 효율) ?\n",
    "    - Eliminating REcursion 꼬리재귀 (빠르지만, 다른 기법보단 느리다.) \n",
    "    \n",
    "\n",
    "함수형 패러다임으로 프로그램을 한다는 것은 합성함수로 계속 변환시키는 것이다. ?합성함수를 식으로 변환해서 for문을 사용하지 않고 만드는 프로그래밍? \n",
    "\n",
    "[일반 함수와의 차이점]\n",
    "함수형 패러다임은 정의역이 없으면 안된다. \n",
    "\n",
    "def x():\n",
    "    return 1 -> 이런것은 함수형 패러다임이 아니다. \n",
    "def x(a=None):\n",
    "    return -> 함수형 패러다임이다. (수학 함수처럼 만들어야한다. \n",
    "global, nonlocal은 입력하고 출력이 상관없이 때문에 함수형 패러다임과 객체 지향에서도 위배된다. \n",
    "\n",
    "\n",
    "함수형 패러다임은 사이드 이펙트가 없는 기법을 써야한다.(global, nonlocal 제외하고 쓴다.) \n",
    "\n",
    "2. Callables \n",
    "괄호 붙일 수 있는애 (3가지)\n",
    "1) function\n",
    "2) class\n",
    "3) class instance의 __call__()\n",
    "\n",
    "\n",
    "3. Lambda \n",
    "익명함수이다. "
   ]
  },
  {
   "cell_type": "markdown",
   "metadata": {},
   "source": [
    "### comprehension\n",
    "- 한번에 데이터 생성 및 변화시킬 때 사용한다. "
   ]
  },
  {
   "cell_type": "code",
   "execution_count": 279,
   "metadata": {},
   "outputs": [],
   "source": [
    "# comprehension\n",
    "temp = []\n",
    "for i in range(10):\n",
    "    temp.append(i+1) # for 문 "
   ]
  },
  {
   "cell_type": "code",
   "execution_count": 280,
   "metadata": {},
   "outputs": [
    {
     "data": {
      "text/plain": [
       "[1, 2, 3, 4, 5, 6, 7, 8, 9, 10]"
      ]
     },
     "execution_count": 280,
     "metadata": {},
     "output_type": "execute_result"
    }
   ],
   "source": [
    "temp"
   ]
  },
  {
   "cell_type": "code",
   "execution_count": 285,
   "metadata": {},
   "outputs": [
    {
     "data": {
      "text/plain": [
       "[1, 2, 3, 4, 5, 6, 7, 8, 9, 10]"
      ]
     },
     "execution_count": 285,
     "metadata": {},
     "output_type": "execute_result"
    }
   ],
   "source": [
    "[i+1 for i in range(10)] # 식 \n",
    "# 이게 훨씬 빠르다. "
   ]
  },
  {
   "cell_type": "markdown",
   "metadata": {},
   "source": [
    "1) list comprehension\n",
    "2) set comprehension\n",
    "3) dictionary comprehension "
   ]
  },
  {
   "cell_type": "code",
   "execution_count": 293,
   "metadata": {},
   "outputs": [
    {
     "data": {
      "text/plain": [
       "{1: 0, 2: 1, 3: 2, 4: 3, 5: 4, 6: 5, 7: 6, 8: 7, 9: 8, 10: 9}"
      ]
     },
     "execution_count": 293,
     "metadata": {},
     "output_type": "execute_result"
    }
   ],
   "source": [
    "{i+1:i for i in range(10)}"
   ]
  },
  {
   "cell_type": "code",
   "execution_count": 294,
   "metadata": {},
   "outputs": [
    {
     "data": {
      "text/plain": [
       "['0', '1', '2', '3', '4', '5', '6', '7', '8', '9']"
      ]
     },
     "execution_count": 294,
     "metadata": {},
     "output_type": "execute_result"
    }
   ],
   "source": [
    "[str(i) for i in range(10)] # map처럼 쓸 수 있다."
   ]
  },
  {
   "cell_type": "code",
   "execution_count": null,
   "metadata": {},
   "outputs": [],
   "source": [
    "# 뒤에 if 붙일 수 있다. "
   ]
  },
  {
   "cell_type": "code",
   "execution_count": 295,
   "metadata": {
    "scrolled": true
   },
   "outputs": [
    {
     "data": {
      "text/plain": [
       "['0', '2', '4', '6', '8']"
      ]
     },
     "execution_count": 295,
     "metadata": {},
     "output_type": "execute_result"
    }
   ],
   "source": [
    "[str(i) for i in range(10) if i%2==0]"
   ]
  },
  {
   "cell_type": "markdown",
   "metadata": {},
   "source": [
    "### generator\n",
    "\n",
    "- immutable \n",
    "- 데이터를 하나하나씩 뽑아서 쓸때 사용한다. \n",
    "- 메모리 관점에서 하나하나씩 뽑아서 쓰기때문에 좋다.\n",
    "- next()를 사용할 수 있다. \n",
    "- 처음부터 모든 데이터를 메모리상에 올리는 것이 아니라 iter할 때마다 메모리 상에 올라간다. 이러한 기법을 lazy 기법이라고 한다. \n",
    "- iterator 형제가 generator이다.: 전체 데이터 중에 한개씩 뽑아서 쓰는 것\n",
    "\n",
    "- 제너레이터 만드는 2가지 \n",
    "1) yield \n",
    "2) comprehension인데 tuple 형태로 만들면 된다. \n",
    "    + tuple은 immutable이다. \n"
   ]
  },
  {
   "cell_type": "code",
   "execution_count": 297,
   "metadata": {},
   "outputs": [
    {
     "data": {
      "text/plain": [
       "<generator object <genexpr> at 0x000001D3F8958408>"
      ]
     },
     "execution_count": 297,
     "metadata": {},
     "output_type": "execute_result"
    }
   ],
   "source": [
    "# comprehension tuple은 안된다. \n",
    "(i for i in range(10)) # generator가 튀어나온다.\n",
    "# generator를 알기 위해서는 iterator를 알야한다. "
   ]
  },
  {
   "cell_type": "code",
   "execution_count": 314,
   "metadata": {},
   "outputs": [],
   "source": [
    "x = iter(range(10))"
   ]
  },
  {
   "cell_type": "code",
   "execution_count": 315,
   "metadata": {},
   "outputs": [
    {
     "data": {
      "text/plain": [
       "<range_iterator at 0x1d3f8959910>"
      ]
     },
     "execution_count": 315,
     "metadata": {},
     "output_type": "execute_result"
    }
   ],
   "source": [
    "x # iter가 되면 next를 쓸 수 있다. "
   ]
  },
  {
   "cell_type": "code",
   "execution_count": 316,
   "metadata": {},
   "outputs": [
    {
     "data": {
      "text/plain": [
       "0"
      ]
     },
     "execution_count": 316,
     "metadata": {},
     "output_type": "execute_result"
    }
   ],
   "source": [
    "next(x) # 값을 한개씩 한개씩 뽑아쓸 수 있다. "
   ]
  },
  {
   "cell_type": "code",
   "execution_count": 317,
   "metadata": {},
   "outputs": [],
   "source": [
    "import dis "
   ]
  },
  {
   "cell_type": "code",
   "execution_count": 356,
   "metadata": {},
   "outputs": [],
   "source": [
    "def x():\n",
    "    for i in range(10):\n",
    "        print(i)"
   ]
  },
  {
   "cell_type": "code",
   "execution_count": 357,
   "metadata": {},
   "outputs": [
    {
     "name": "stdout",
     "output_type": "stream",
     "text": [
      "  2           0 SETUP_LOOP              24 (to 26)\n",
      "              2 LOAD_GLOBAL              0 (range)\n",
      "              4 LOAD_CONST               1 (10)\n",
      "              6 CALL_FUNCTION            1\n",
      "              8 GET_ITER\n",
      "        >>   10 FOR_ITER                12 (to 24)\n",
      "             12 STORE_FAST               0 (i)\n",
      "\n",
      "  3          14 LOAD_GLOBAL              1 (print)\n",
      "             16 LOAD_FAST                0 (i)\n",
      "             18 CALL_FUNCTION            1\n",
      "             20 POP_TOP\n",
      "             22 JUMP_ABSOLUTE           10\n",
      "        >>   24 POP_BLOCK\n",
      "        >>   26 LOAD_CONST               0 (None)\n",
      "             28 RETURN_VALUE\n"
     ]
    }
   ],
   "source": [
    "dis.dis(x)"
   ]
  },
  {
   "cell_type": "code",
   "execution_count": 352,
   "metadata": {},
   "outputs": [],
   "source": [
    "def t():\n",
    "    yield 1\n",
    "    yield 2\n",
    "    yield 3"
   ]
  },
  {
   "cell_type": "code",
   "execution_count": 353,
   "metadata": {
    "scrolled": true
   },
   "outputs": [
    {
     "data": {
      "text/plain": [
       "[1, 2, 3]"
      ]
     },
     "execution_count": 353,
     "metadata": {},
     "output_type": "execute_result"
    }
   ],
   "source": [
    "list(t())"
   ]
  },
  {
   "cell_type": "code",
   "execution_count": 354,
   "metadata": {},
   "outputs": [],
   "source": [
    "a = t()"
   ]
  },
  {
   "cell_type": "code",
   "execution_count": 355,
   "metadata": {},
   "outputs": [
    {
     "data": {
      "text/plain": [
       "1"
      ]
     },
     "execution_count": 355,
     "metadata": {},
     "output_type": "execute_result"
    }
   ],
   "source": [
    "next(a)"
   ]
  },
  {
   "cell_type": "code",
   "execution_count": 358,
   "metadata": {},
   "outputs": [],
   "source": [
    "def t():\n",
    "    yield from [1,2,3]"
   ]
  },
  {
   "cell_type": "code",
   "execution_count": 359,
   "metadata": {},
   "outputs": [],
   "source": [
    "def s():\n",
    "    while True: # 무한 루프\n",
    "        yield 1"
   ]
  },
  {
   "cell_type": "code",
   "execution_count": 372,
   "metadata": {},
   "outputs": [],
   "source": [
    "a=s()"
   ]
  },
  {
   "cell_type": "code",
   "execution_count": 380,
   "metadata": {},
   "outputs": [
    {
     "data": {
      "text/plain": [
       "1"
      ]
     },
     "execution_count": 380,
     "metadata": {},
     "output_type": "execute_result"
    }
   ],
   "source": [
    "next(a)"
   ]
  },
  {
   "cell_type": "code",
   "execution_count": 386,
   "metadata": {},
   "outputs": [
    {
     "name": "stderr",
     "output_type": "stream",
     "text": [
      "UsageError: Line magic function `%%writefile` not found.\n"
     ]
    }
   ],
   "source": [
    "# generator로 만들어져 있다.\n",
    "%%writefile cho.txt\n",
    "asdf\n",
    "asdf\n",
    "adf\n",
    "adf"
   ]
  },
  {
   "cell_type": "code",
   "execution_count": 387,
   "metadata": {},
   "outputs": [],
   "source": [
    "x = open('cho.txt')"
   ]
  },
  {
   "cell_type": "code",
   "execution_count": 390,
   "metadata": {},
   "outputs": [
    {
     "data": {
      "text/plain": [
       "'adf\\n'"
      ]
     },
     "execution_count": 390,
     "metadata": {},
     "output_type": "execute_result"
    }
   ],
   "source": [
    "next(x)"
   ]
  },
  {
   "cell_type": "markdown",
   "metadata": {},
   "source": [
    "### map"
   ]
  },
  {
   "cell_type": "code",
   "execution_count": 302,
   "metadata": {},
   "outputs": [
    {
     "data": {
      "text/plain": [
       "[1, 2, 3, 4, 5, 6, 7, 8, 9, 10]"
      ]
     },
     "execution_count": 302,
     "metadata": {},
     "output_type": "execute_result"
    }
   ],
   "source": [
    "# map  - map이 제일 빠르다. \n",
    "list(map(lambda x:x+1 , range(10)))"
   ]
  },
  {
   "cell_type": "markdown",
   "metadata": {},
   "source": [
    "### Recursion "
   ]
  },
  {
   "cell_type": "code",
   "execution_count": 423,
   "metadata": {},
   "outputs": [],
   "source": [
    "def fibo(n):\n",
    "    if n < 2: \n",
    "        return 1\n",
    "    return fibo(n-2) + fibo(n-1)"
   ]
  },
  {
   "cell_type": "code",
   "execution_count": 424,
   "metadata": {},
   "outputs": [
    {
     "data": {
      "text/plain": [
       "8"
      ]
     },
     "execution_count": 424,
     "metadata": {},
     "output_type": "execute_result"
    }
   ],
   "source": [
    "fibo(5)"
   ]
  },
  {
   "cell_type": "code",
   "execution_count": 427,
   "metadata": {},
   "outputs": [],
   "source": [
    "def fibo(n):\n",
    "    return fibo(n-2) + fibo(n-1) if n < 2 else 1"
   ]
  },
  {
   "cell_type": "code",
   "execution_count": 429,
   "metadata": {},
   "outputs": [
    {
     "data": {
      "text/plain": [
       "1"
      ]
     },
     "execution_count": 429,
     "metadata": {},
     "output_type": "execute_result"
    }
   ],
   "source": [
    "fibo(3)"
   ]
  },
  {
   "cell_type": "markdown",
   "metadata": {},
   "source": [
    "### 함수"
   ]
  },
  {
   "cell_type": "code",
   "execution_count": 431,
   "metadata": {},
   "outputs": [
    {
     "data": {
      "text/plain": [
       "1573022705.209898"
      ]
     },
     "execution_count": 431,
     "metadata": {},
     "output_type": "execute_result"
    }
   ],
   "source": [
    "import time \n",
    "\n",
    "time.time() # 현재 시간을 알려준다. "
   ]
  },
  {
   "cell_type": "code",
   "execution_count": null,
   "metadata": {},
   "outputs": [],
   "source": [
    "# 디폴트 값은 한번 들어가면 바뀌지 않는다. \n",
    "# 디폴트 값을 동적으로 만들 수 없다. "
   ]
  },
  {
   "cell_type": "code",
   "execution_count": 432,
   "metadata": {},
   "outputs": [],
   "source": [
    "def x(a=time.time()):\n",
    "    return a  # 계속 똑같은 시간이 나온다. "
   ]
  },
  {
   "cell_type": "code",
   "execution_count": 434,
   "metadata": {},
   "outputs": [
    {
     "data": {
      "text/plain": [
       "1573022729.8222132"
      ]
     },
     "execution_count": 434,
     "metadata": {},
     "output_type": "execute_result"
    }
   ],
   "source": [
    "x()"
   ]
  },
  {
   "cell_type": "code",
   "execution_count": 436,
   "metadata": {},
   "outputs": [],
   "source": [
    "def x(a = []):\n",
    "    return a.append(3) # append는 리턴이 없지만, 자기자신이 변하는 경우이다. "
   ]
  },
  {
   "cell_type": "code",
   "execution_count": 437,
   "metadata": {},
   "outputs": [],
   "source": [
    "def x(a = []):\n",
    "    a.append(3)\n",
    "    return a"
   ]
  },
  {
   "cell_type": "code",
   "execution_count": 438,
   "metadata": {},
   "outputs": [
    {
     "data": {
      "text/plain": [
       "[1, 2, 3]"
      ]
     },
     "execution_count": 438,
     "metadata": {},
     "output_type": "execute_result"
    }
   ],
   "source": [
    "x([1,2])"
   ]
  },
  {
   "cell_type": "code",
   "execution_count": 449,
   "metadata": {},
   "outputs": [
    {
     "data": {
      "text/plain": [
       "[3, 3, 3, 3, 3, 3, 3, 3, 3, 3, 3]"
      ]
     },
     "execution_count": 449,
     "metadata": {},
     "output_type": "execute_result"
    }
   ],
   "source": [
    "x()"
   ]
  },
  {
   "cell_type": "code",
   "execution_count": null,
   "metadata": {},
   "outputs": [],
   "source": [
    "함수 \n",
    "1. 리턴이 없지만, 자기 자신이 변하는 경우\n",
    "    - append, extend\n",
    "2. 리턴이 있지만, 자기 자신이 변하지 않는 경우\n",
    "    - count, index\n",
    "3. 리턴도 있고, 자기자신도 변하는 경우 \n",
    "    - x.pop()"
   ]
  },
  {
   "cell_type": "markdown",
   "metadata": {},
   "source": [
    "## callable\n",
    "- 함수\n",
    "- 클래스\n",
    "- 클래스에 인스턴스 한 경우인데 __call__이 정의되어 있는 경우"
   ]
  },
  {
   "cell_type": "code",
   "execution_count": 450,
   "metadata": {},
   "outputs": [],
   "source": [
    "class X:\n",
    "    def __call__(self): # 인스턴스에 ()붙일 수 있는 것  \n",
    "        print('CALL')"
   ]
  },
  {
   "cell_type": "code",
   "execution_count": 453,
   "metadata": {},
   "outputs": [
    {
     "name": "stdout",
     "output_type": "stream",
     "text": [
      "CALL\n"
     ]
    }
   ],
   "source": [
    "x = X()() # __call__이 있기 때문에 () 붙일 수 있다."
   ]
  },
  {
   "cell_type": "code",
   "execution_count": 452,
   "metadata": {},
   "outputs": [
    {
     "name": "stdout",
     "output_type": "stream",
     "text": [
      "CALL\n"
     ]
    }
   ],
   "source": [
    "x()"
   ]
  },
  {
   "cell_type": "markdown",
   "metadata": {},
   "source": [
    "## Lambda\n",
    "\n",
    "- 메모리 공간에 남아있지 않는다. 따라서 계속 사용하지 않을 경우에는 lambda가 효율적이다. "
   ]
  },
  {
   "cell_type": "code",
   "execution_count": 454,
   "metadata": {},
   "outputs": [],
   "source": [
    "def x():\n",
    "    print(1)"
   ]
  },
  {
   "cell_type": "code",
   "execution_count": 455,
   "metadata": {},
   "outputs": [
    {
     "data": {
      "text/plain": [
       "'x'"
      ]
     },
     "execution_count": 455,
     "metadata": {},
     "output_type": "execute_result"
    }
   ],
   "source": [
    "x.__name__"
   ]
  },
  {
   "cell_type": "code",
   "execution_count": 456,
   "metadata": {},
   "outputs": [],
   "source": [
    "a = lambda : print(1)"
   ]
  },
  {
   "cell_type": "code",
   "execution_count": 458,
   "metadata": {},
   "outputs": [
    {
     "data": {
      "text/plain": [
       "'<lambda>'"
      ]
     },
     "execution_count": 458,
     "metadata": {},
     "output_type": "execute_result"
    }
   ],
   "source": [
    "a.__name__ # 할당을 할 수 있다. "
   ]
  },
  {
   "cell_type": "code",
   "execution_count": 459,
   "metadata": {},
   "outputs": [
    {
     "data": {
      "text/plain": [
       "True"
      ]
     },
     "execution_count": 459,
     "metadata": {},
     "output_type": "execute_result"
    }
   ],
   "source": [
    "callable(a) # 괄호 붙일 수 있는지 없는지는 callable로 알 수있다. "
   ]
  },
  {
   "cell_type": "markdown",
   "metadata": {},
   "source": [
    "###  Closure"
   ]
  },
  {
   "cell_type": "code",
   "execution_count": 462,
   "metadata": {},
   "outputs": [],
   "source": [
    "class a(object):\n",
    "    def __init__(self, n):\n",
    "        self.n = n\n",
    "    def __call__(self, m):\n",
    "        return self.n + m "
   ]
  },
  {
   "cell_type": "code",
   "execution_count": 469,
   "metadata": {},
   "outputs": [],
   "source": [
    "addi = a(5)"
   ]
  },
  {
   "cell_type": "code",
   "execution_count": 470,
   "metadata": {},
   "outputs": [
    {
     "data": {
      "text/plain": [
       "15"
      ]
     },
     "execution_count": 470,
     "metadata": {},
     "output_type": "execute_result"
    }
   ],
   "source": [
    "addi(10)"
   ]
  },
  {
   "cell_type": "code",
   "execution_count": 472,
   "metadata": {},
   "outputs": [
    {
     "data": {
      "text/plain": [
       "13"
      ]
     },
     "execution_count": 472,
     "metadata": {},
     "output_type": "execute_result"
    }
   ],
   "source": [
    "a(3)(10)"
   ]
  },
  {
   "cell_type": "code",
   "execution_count": 476,
   "metadata": {},
   "outputs": [],
   "source": [
    "# 위는 아래와 같다. "
   ]
  },
  {
   "cell_type": "code",
   "execution_count": 477,
   "metadata": {},
   "outputs": [],
   "source": [
    "def mn(x):\n",
    "    def n(y):\n",
    "        return x+y\n",
    "    return n"
   ]
  },
  {
   "cell_type": "code",
   "execution_count": 478,
   "metadata": {},
   "outputs": [
    {
     "data": {
      "text/plain": [
       "5"
      ]
     },
     "execution_count": 478,
     "metadata": {},
     "output_type": "execute_result"
    }
   ],
   "source": [
    "mn(3)(2)"
   ]
  },
  {
   "cell_type": "code",
   "execution_count": 479,
   "metadata": {},
   "outputs": [],
   "source": [
    "# 함수형 패러다임은 모든 연산을 함수로해야한다. "
   ]
  },
  {
   "cell_type": "code",
   "execution_count": 486,
   "metadata": {},
   "outputs": [],
   "source": [
    "from operator import add, sub, mul\n",
    "# 함수로 모든 연산을 다하는 라이브러리 "
   ]
  },
  {
   "cell_type": "code",
   "execution_count": 487,
   "metadata": {},
   "outputs": [
    {
     "data": {
      "text/plain": [
       "9"
      ]
     },
     "execution_count": 487,
     "metadata": {},
     "output_type": "execute_result"
    }
   ],
   "source": [
    "add(4,5)"
   ]
  },
  {
   "cell_type": "code",
   "execution_count": 488,
   "metadata": {},
   "outputs": [
    {
     "data": {
      "text/plain": [
       "7"
      ]
     },
     "execution_count": 488,
     "metadata": {},
     "output_type": "execute_result"
    }
   ],
   "source": [
    "sub(10,3)"
   ]
  },
  {
   "cell_type": "code",
   "execution_count": 489,
   "metadata": {},
   "outputs": [
    {
     "data": {
      "text/plain": [
       "6"
      ]
     },
     "execution_count": 489,
     "metadata": {},
     "output_type": "execute_result"
    }
   ],
   "source": [
    "mul(2,3)"
   ]
  },
  {
   "cell_type": "code",
   "execution_count": 490,
   "metadata": {},
   "outputs": [],
   "source": [
    "from functools import partial "
   ]
  },
  {
   "cell_type": "code",
   "execution_count": 493,
   "metadata": {},
   "outputs": [],
   "source": [
    "add3 = partial(add,3) # 인자를 함수를 받고, 가변 포지셔널, 가변 키워드 "
   ]
  },
  {
   "cell_type": "code",
   "execution_count": 492,
   "metadata": {},
   "outputs": [
    {
     "data": {
      "text/plain": [
       "8"
      ]
     },
     "execution_count": 492,
     "metadata": {},
     "output_type": "execute_result"
    }
   ],
   "source": [
    "add3(5) \n",
    "# closure 느낌으로 쓸 수 있는 기법 "
   ]
  },
  {
   "cell_type": "markdown",
   "metadata": {},
   "source": [
    "### Magic Method  \n",
    "- __len__\n",
    "- __getitem__ : [] 인덱싱 가능하게 하는 거 \n",
    "- __init__ : initialize  \n",
    "- __next__ : 이걸 쓸 수 있으면 iterator 또는 generator이다. \n",
    "\n",
    "- duck typing: 오리이다. 특정 기능이 있으면 그 기능처럼 쓸 수 있다. "
   ]
  },
  {
   "cell_type": "code",
   "execution_count": 498,
   "metadata": {},
   "outputs": [],
   "source": [
    "class Myint(int):\n",
    "    def __len__(self):\n",
    "        return 1 "
   ]
  },
  {
   "cell_type": "code",
   "execution_count": 499,
   "metadata": {},
   "outputs": [],
   "source": [
    "x = Myint(3)"
   ]
  },
  {
   "cell_type": "code",
   "execution_count": 500,
   "metadata": {},
   "outputs": [
    {
     "data": {
      "text/plain": [
       "3"
      ]
     },
     "execution_count": 500,
     "metadata": {},
     "output_type": "execute_result"
    }
   ],
   "source": [
    "x"
   ]
  },
  {
   "cell_type": "code",
   "execution_count": 501,
   "metadata": {},
   "outputs": [],
   "source": [
    "a = [1,2,3]"
   ]
  },
  {
   "cell_type": "code",
   "execution_count": 502,
   "metadata": {},
   "outputs": [],
   "source": [
    "b = iter(a) # __next__를 쓸 수 있다. "
   ]
  },
  {
   "cell_type": "code",
   "execution_count": 510,
   "metadata": {},
   "outputs": [
    {
     "data": {
      "text/plain": [
       "{'__length_hint__', '__next__', '__setstate__'}"
      ]
     },
     "execution_count": 510,
     "metadata": {},
     "output_type": "execute_result"
    }
   ],
   "source": [
    "set(dir(b)) - set(dir(a))"
   ]
  },
  {
   "cell_type": "markdown",
   "metadata": {},
   "source": [
    "##  First class function \n",
    "- 함수는 중첩 가능하다."
   ]
  },
  {
   "cell_type": "markdown",
   "metadata": {},
   "source": [
    "### decorator \n",
    "- 기존에 있는 것들 추가 ,변경 가능하다 "
   ]
  },
  {
   "cell_type": "code",
   "execution_count": 3,
   "metadata": {},
   "outputs": [],
   "source": [
    "def x(func):\n",
    "    def y():\n",
    "        func('hi')\n",
    "    return y"
   ]
  },
  {
   "cell_type": "code",
   "execution_count": 4,
   "metadata": {},
   "outputs": [
    {
     "name": "stdout",
     "output_type": "stream",
     "text": [
      "hi\n"
     ]
    }
   ],
   "source": [
    "x(print)()"
   ]
  },
  {
   "cell_type": "code",
   "execution_count": 32,
   "metadata": {},
   "outputs": [],
   "source": [
    "def x(func):\n",
    "    def y(z):\n",
    "        print('----')\n",
    "        func(z)\n",
    "        print('----')\n",
    "    return y "
   ]
  },
  {
   "cell_type": "code",
   "execution_count": 33,
   "metadata": {},
   "outputs": [
    {
     "name": "stdout",
     "output_type": "stream",
     "text": [
      "----\n",
      "hi\n",
      "----\n"
     ]
    }
   ],
   "source": [
    "x(print)('hi')"
   ]
  },
  {
   "cell_type": "code",
   "execution_count": 34,
   "metadata": {},
   "outputs": [],
   "source": [
    "@x  # decorator \n",
    "def t(a):\n",
    "    print('a')"
   ]
  },
  {
   "cell_type": "code",
   "execution_count": 35,
   "metadata": {
    "scrolled": true
   },
   "outputs": [
    {
     "name": "stdout",
     "output_type": "stream",
     "text": [
      "----\n",
      "----\n",
      "a\n",
      "----\n",
      "----\n"
     ]
    }
   ],
   "source": [
    "t = x(t)(4)"
   ]
  },
  {
   "cell_type": "code",
   "execution_count": 53,
   "metadata": {},
   "outputs": [],
   "source": [
    "def x(func):\n",
    "    def y(*args, **keywords):\n",
    "        print('----')\n",
    "        func(*args, **keywords)\n",
    "        print('----')\n",
    "    return y "
   ]
  },
  {
   "cell_type": "code",
   "execution_count": 54,
   "metadata": {},
   "outputs": [],
   "source": [
    "@x\n",
    "def s(): # z를 받는애 \n",
    "    print('sss')"
   ]
  },
  {
   "cell_type": "code",
   "execution_count": 55,
   "metadata": {},
   "outputs": [
    {
     "name": "stdout",
     "output_type": "stream",
     "text": [
      "----\n",
      "sss\n",
      "----\n"
     ]
    }
   ],
   "source": [
    "s()"
   ]
  },
  {
   "cell_type": "markdown",
   "metadata": {},
   "source": [
    "# 2019년 11월 7일  "
   ]
  },
  {
   "cell_type": "markdown",
   "metadata": {},
   "source": [
    "함수형 프로그래밍\n",
    "\n",
    "## 데코레이터 \n",
    "- 이미 있던 기능을 추가하거나 수정하는 것 \n",
    "- 중첩된 구조\n",
    "- 함수를 인자로 받는다.\n",
    "\n",
    "* 리턴없는 것 2개 \n",
    "    - None\n",
    "    - yield \n",
    "\n",
    "Encapsulation\n",
    "- 안에서는 밖에 접근할 수 있지만, 수정할 수 없다. \n",
    "- global 쓰면 수정할 수 있다. \n",
    "- 밖에서는 안에 접근할 수 없다. \n"
   ]
  },
  {
   "cell_type": "code",
   "execution_count": 1,
   "metadata": {},
   "outputs": [],
   "source": [
    "def cho():\n",
    "    print('cho')\n",
    "    return cho"
   ]
  },
  {
   "cell_type": "code",
   "execution_count": 3,
   "metadata": {},
   "outputs": [
    {
     "name": "stdout",
     "output_type": "stream",
     "text": [
      "cho\n",
      "cho\n",
      "cho\n",
      "cho\n"
     ]
    },
    {
     "data": {
      "text/plain": [
       "<function __main__.cho()>"
      ]
     },
     "execution_count": 3,
     "metadata": {},
     "output_type": "execute_result"
    }
   ],
   "source": [
    "cho()()()() \n",
    "# higher order function올 자기자신을 무한히 불러올 수 있다. \n",
    "# fist class function으로 괄호를 분리시킬 수 있다. "
   ]
  },
  {
   "cell_type": "code",
   "execution_count": 5,
   "metadata": {},
   "outputs": [],
   "source": [
    "def outter(func): # 첫번째 인자로 함수를 받는 다.\n",
    "    def inner(z):\n",
    "        return func(z+1)\n",
    "    return inner"
   ]
  },
  {
   "cell_type": "code",
   "execution_count": 9,
   "metadata": {},
   "outputs": [],
   "source": [
    "def x(a):\n",
    "    return a"
   ]
  },
  {
   "cell_type": "code",
   "execution_count": 22,
   "metadata": {},
   "outputs": [
    {
     "data": {
      "text/plain": [
       "4"
      ]
     },
     "execution_count": 22,
     "metadata": {},
     "output_type": "execute_result"
    }
   ],
   "source": [
    "outter(x)(3)"
   ]
  },
  {
   "cell_type": "code",
   "execution_count": 36,
   "metadata": {},
   "outputs": [],
   "source": [
    "def outter(func): # 첫번째 인자로 함수를 받는 다.\n",
    "    def inner(z):\n",
    "        return func(z+1)\n",
    "    return inner"
   ]
  },
  {
   "cell_type": "code",
   "execution_count": 27,
   "metadata": {},
   "outputs": [],
   "source": [
    "@outter # 원래 함수의 기능을 변경, 추가시킨다. \n",
    "def x(a):\n",
    "    return a"
   ]
  },
  {
   "cell_type": "code",
   "execution_count": 31,
   "metadata": {},
   "outputs": [
    {
     "data": {
      "text/plain": [
       "3"
      ]
     },
     "execution_count": 31,
     "metadata": {},
     "output_type": "execute_result"
    }
   ],
   "source": [
    "x(2)"
   ]
  },
  {
   "cell_type": "code",
   "execution_count": 52,
   "metadata": {},
   "outputs": [],
   "source": [
    "import functools"
   ]
  },
  {
   "cell_type": "code",
   "execution_count": 81,
   "metadata": {},
   "outputs": [],
   "source": [
    "def wrapper(fn):\n",
    "    @functools.wraps(fn)\n",
    "    def inner(*args, **kwargs): # 인자 개수를 안맞춰도 된다. \n",
    "        return fn(*args, **kwargs)\n",
    "    return inner "
   ]
  },
  {
   "cell_type": "code",
   "execution_count": 82,
   "metadata": {},
   "outputs": [],
   "source": [
    "def hi():\n",
    "    print('hi')  "
   ]
  },
  {
   "cell_type": "code",
   "execution_count": 83,
   "metadata": {},
   "outputs": [
    {
     "data": {
      "text/plain": [
       "<function __main__.hi()>"
      ]
     },
     "execution_count": 83,
     "metadata": {},
     "output_type": "execute_result"
    }
   ],
   "source": [
    "wrapper(hi)  # __main__: 현재 작업하고 있는 경우 \n",
    "# functools을 하면 현재 작업하고 있는 경우의 함수를 호출 (사용자 입장에서 편하다.)\n",
    "# functools 없으면 local.inner (실제 형태 그대로 나온다.)"
   ]
  },
  {
   "cell_type": "code",
   "execution_count": 86,
   "metadata": {},
   "outputs": [
    {
     "name": "stdout",
     "output_type": "stream",
     "text": [
      "hi\n"
     ]
    }
   ],
   "source": [
    "wrapper(hi)()  # hi()인자를 맞춰야한다. 아무것도 안 집어넣었으므로, ()빈칸"
   ]
  },
  {
   "cell_type": "code",
   "execution_count": 87,
   "metadata": {},
   "outputs": [],
   "source": [
    "@wrapper\n",
    "def hi():\n",
    "    print('hi')"
   ]
  },
  {
   "cell_type": "code",
   "execution_count": 88,
   "metadata": {},
   "outputs": [
    {
     "name": "stdout",
     "output_type": "stream",
     "text": [
      "hi\n"
     ]
    }
   ],
   "source": [
    "hi()"
   ]
  },
  {
   "cell_type": "code",
   "execution_count": 95,
   "metadata": {},
   "outputs": [],
   "source": [
    "def adder(n): # 데코레이터: 첫번째 인자가 함수 \n",
    "    def su(m):\n",
    "        return n+m**2\n",
    "    return su"
   ]
  },
  {
   "cell_type": "code",
   "execution_count": 98,
   "metadata": {},
   "outputs": [
    {
     "data": {
      "text/plain": [
       "17"
      ]
     },
     "execution_count": 98,
     "metadata": {},
     "output_type": "execute_result"
    }
   ],
   "source": [
    "adder(1)(4) # 바깥부터 안으로 들어간다. "
   ]
  },
  {
   "cell_type": "markdown",
   "metadata": {},
   "source": [
    "객체 지향은 인스턴스화한다. "
   ]
  },
  {
   "cell_type": "markdown",
   "metadata": {},
   "source": [
    "### Class"
   ]
  },
  {
   "cell_type": "code",
   "execution_count": 99,
   "metadata": {},
   "outputs": [],
   "source": [
    "a = 1."
   ]
  },
  {
   "cell_type": "code",
   "execution_count": null,
   "metadata": {},
   "outputs": [],
   "source": [
    "type(a) # 타입은 클래스를 반환한다. \n",
    "# metaclass이다. \n",
    "# type 뒤에 인스턴스하면 클래스를 반환. "
   ]
  },
  {
   "cell_type": "markdown",
   "metadata": {},
   "source": [
    "meta class\n",
    "- class의 행동을 바꿔준다. \n",
    "예를 들어 인스턴스를 홀수만 하게 하던가, 하나만 하도록 하던가 하는 등 인스턴스의 역할을 제한할 수 있다. \n",
    "\n",
    "- 메타 클래스입장에서 클래스는 인스턴스이다. "
   ]
  },
  {
   "cell_type": "markdown",
   "metadata": {},
   "source": [
    "이터레이터 제너레이터 \n",
    "- next 기법 (제너레이터 차이) "
   ]
  },
  {
   "cell_type": "code",
   "execution_count": 102,
   "metadata": {},
   "outputs": [],
   "source": [
    "a =int(3)"
   ]
  },
  {
   "cell_type": "code",
   "execution_count": 103,
   "metadata": {},
   "outputs": [
    {
     "data": {
      "text/plain": [
       "type"
      ]
     },
     "execution_count": 103,
     "metadata": {},
     "output_type": "execute_result"
    }
   ],
   "source": [
    "type(int)"
   ]
  },
  {
   "cell_type": "markdown",
   "metadata": {},
   "source": [
    "선언문 \n",
    "- 재사용\n",
    "\n",
    "함수 만드는 방법2가지\n",
    "1. 선언\n",
    "2. 람다 (재사용 안하는 용도로 쓴다) - 메모리 들어가는 영역이 다르다. \n",
    "\n",
    "값에 접근할 수 있는 방법 4가지 \n",
    "1. 클래스 변수(클래스 메소드)\n",
    "2. 인스턴스 변수(인스턴스 메소드) "
   ]
  },
  {
   "cell_type": "markdown",
   "metadata": {},
   "source": [
    "class : 카멜방식 "
   ]
  },
  {
   "cell_type": "code",
   "execution_count": 136,
   "metadata": {},
   "outputs": [],
   "source": [
    "class cho(object): # 모든 클래스는 오브젝트를 선언한다. \n",
    "    x=1  # 메소드 밖에 있는 애는 class 변수 \n",
    "    def __init__(self, a): # 첫번째 인자는 안넣고, a인자 넣어야한다. \n",
    "        self.a = a # 메소드 안에 정의된 애가 인스턴스 \n",
    "        print('INIT')\n",
    "    def a(self):\n",
    "        print('A')"
   ]
  },
  {
   "cell_type": "code",
   "execution_count": 122,
   "metadata": {},
   "outputs": [
    {
     "data": {
      "text/plain": [
       "1"
      ]
     },
     "execution_count": 122,
     "metadata": {},
     "output_type": "execute_result"
    }
   ],
   "source": [
    "cho.x # 클래스 이름으로 접근할 수 있는 메소드: 클래스 메소드 "
   ]
  },
  {
   "cell_type": "code",
   "execution_count": 124,
   "metadata": {},
   "outputs": [
    {
     "name": "stdout",
     "output_type": "stream",
     "text": [
      "INIT\n"
     ]
    },
    {
     "data": {
      "text/plain": [
       "1"
      ]
     },
     "execution_count": 124,
     "metadata": {},
     "output_type": "execute_result"
    }
   ],
   "source": [
    "# 인스턴스 시켜서 접근할 수 있는 메소드: 인스턴스 메소드 \n",
    "cho().x"
   ]
  },
  {
   "cell_type": "code",
   "execution_count": 126,
   "metadata": {},
   "outputs": [
    {
     "name": "stdout",
     "output_type": "stream",
     "text": [
      "INIT\n"
     ]
    },
    {
     "data": {
      "text/plain": [
       "<__main__.cho at 0x24391c81470>"
      ]
     },
     "execution_count": 126,
     "metadata": {},
     "output_type": "execute_result"
    }
   ],
   "source": [
    "cho() # 생성할 때 생성자로 __init__가 실행된다. "
   ]
  },
  {
   "cell_type": "code",
   "execution_count": 125,
   "metadata": {},
   "outputs": [
    {
     "data": {
      "text/plain": [
       "type"
      ]
     },
     "execution_count": 125,
     "metadata": {},
     "output_type": "execute_result"
    }
   ],
   "source": [
    "type(cho)"
   ]
  },
  {
   "cell_type": "code",
   "execution_count": 113,
   "metadata": {
    "scrolled": true
   },
   "outputs": [
    {
     "data": {
      "text/plain": [
       "['__class__',\n",
       " '__delattr__',\n",
       " '__dict__',\n",
       " '__dir__',\n",
       " '__doc__',\n",
       " '__eq__',\n",
       " '__format__',\n",
       " '__ge__',\n",
       " '__getattribute__',\n",
       " '__gt__',\n",
       " '__hash__',\n",
       " '__init__',\n",
       " '__init_subclass__',\n",
       " '__le__',\n",
       " '__lt__',\n",
       " '__module__',\n",
       " '__ne__',\n",
       " '__new__',\n",
       " '__reduce__',\n",
       " '__reduce_ex__',\n",
       " '__repr__',\n",
       " '__setattr__',\n",
       " '__sizeof__',\n",
       " '__str__',\n",
       " '__subclasshook__',\n",
       " '__weakref__',\n",
       " 'x']"
      ]
     },
     "execution_count": 113,
     "metadata": {},
     "output_type": "execute_result"
    }
   ],
   "source": [
    "dir(cho) # 오브젝트에서 정의된 것 상속받는다."
   ]
  },
  {
   "cell_type": "code",
   "execution_count": 118,
   "metadata": {},
   "outputs": [],
   "source": [
    "# spsecial 메소드와 대응하는 function이 있다. "
   ]
  },
  {
   "cell_type": "code",
   "execution_count": 119,
   "metadata": {},
   "outputs": [
    {
     "data": {
      "text/plain": [
       "type"
      ]
     },
     "execution_count": 119,
     "metadata": {},
     "output_type": "execute_result"
    }
   ],
   "source": [
    "cho.__class__  # type은 function 접근법 "
   ]
  },
  {
   "cell_type": "markdown",
   "metadata": {},
   "source": [
    "- callable\n",
    "\n",
    "1. function\n",
    "2. class\n",
    "3. call이 정의된 instance (__call__)"
   ]
  },
  {
   "cell_type": "code",
   "execution_count": 128,
   "metadata": {},
   "outputs": [
    {
     "name": "stdout",
     "output_type": "stream",
     "text": [
      "INIT\n"
     ]
    }
   ],
   "source": [
    "x = cho()"
   ]
  },
  {
   "cell_type": "code",
   "execution_count": 131,
   "metadata": {},
   "outputs": [
    {
     "name": "stdout",
     "output_type": "stream",
     "text": [
      "A\n"
     ]
    }
   ],
   "source": [
    "# functional 방식 (클래스)\n",
    "cho.a(x) # 인스턴스에 인자를 넣어줘야한다. (개수 맞추기) "
   ]
  },
  {
   "cell_type": "code",
   "execution_count": 132,
   "metadata": {},
   "outputs": [
    {
     "name": "stdout",
     "output_type": "stream",
     "text": [
      "A\n"
     ]
    }
   ],
   "source": [
    "# 메소드 방식 (인스턴스)\n",
    "x.a()"
   ]
  },
  {
   "cell_type": "code",
   "execution_count": 174,
   "metadata": {},
   "outputs": [],
   "source": [
    "class cho(): # 모든 클래스는 오브젝트를 선언한다. \n",
    "    x=1  # 메소드 밖에 있는 애는 class 변수 \n",
    "    def __init__(self, a): # 첫번째 인자는 안넣고, a인자 넣어야한다. \n",
    "        self.a = a # 메소드 안에 정의된 애가 인스턴스 "
   ]
  },
  {
   "cell_type": "code",
   "execution_count": 175,
   "metadata": {},
   "outputs": [],
   "source": [
    "a = cho(3)\n",
    "b = cho(5)"
   ]
  },
  {
   "cell_type": "code",
   "execution_count": 176,
   "metadata": {},
   "outputs": [
    {
     "data": {
      "text/plain": [
       "3"
      ]
     },
     "execution_count": 176,
     "metadata": {},
     "output_type": "execute_result"
    }
   ],
   "source": [
    "a.a # 인스턴스 고유의 값이다. "
   ]
  },
  {
   "cell_type": "code",
   "execution_count": 177,
   "metadata": {},
   "outputs": [
    {
     "data": {
      "text/plain": [
       "1"
      ]
     },
     "execution_count": 177,
     "metadata": {},
     "output_type": "execute_result"
    }
   ],
   "source": [
    "a.x # 인스턴스 시킬 때 마다 고유값 가질 수 있는 것을 인스턴스 변수 "
   ]
  },
  {
   "cell_type": "code",
   "execution_count": 178,
   "metadata": {},
   "outputs": [
    {
     "data": {
      "text/plain": [
       "{'a': 3}"
      ]
     },
     "execution_count": 178,
     "metadata": {},
     "output_type": "execute_result"
    }
   ],
   "source": [
    "vars(a) # 인스턴스가 가지는 고유값을 보여주는 것 "
   ]
  },
  {
   "cell_type": "code",
   "execution_count": 179,
   "metadata": {},
   "outputs": [],
   "source": [
    "cho.x = 0"
   ]
  },
  {
   "cell_type": "code",
   "execution_count": 180,
   "metadata": {
    "scrolled": true
   },
   "outputs": [
    {
     "data": {
      "text/plain": [
       "0"
      ]
     },
     "execution_count": 180,
     "metadata": {},
     "output_type": "execute_result"
    }
   ],
   "source": [
    "a.x"
   ]
  },
  {
   "cell_type": "code",
   "execution_count": 181,
   "metadata": {},
   "outputs": [
    {
     "data": {
      "text/plain": [
       "0"
      ]
     },
     "execution_count": 181,
     "metadata": {},
     "output_type": "execute_result"
    }
   ],
   "source": [
    "b.x"
   ]
  },
  {
   "cell_type": "code",
   "execution_count": 182,
   "metadata": {},
   "outputs": [],
   "source": [
    "a.a = 10\n",
    "\n",
    "# class는 오히려 밖에서 안에 접근할 수 있다. "
   ]
  },
  {
   "cell_type": "code",
   "execution_count": 183,
   "metadata": {},
   "outputs": [
    {
     "data": {
      "text/plain": [
       "5"
      ]
     },
     "execution_count": 183,
     "metadata": {},
     "output_type": "execute_result"
    }
   ],
   "source": [
    "b.a"
   ]
  },
  {
   "cell_type": "code",
   "execution_count": 184,
   "metadata": {},
   "outputs": [],
   "source": [
    "a.x = 4"
   ]
  },
  {
   "cell_type": "code",
   "execution_count": 185,
   "metadata": {},
   "outputs": [
    {
     "data": {
      "text/plain": [
       "0"
      ]
     },
     "execution_count": 185,
     "metadata": {},
     "output_type": "execute_result"
    }
   ],
   "source": [
    "b.x "
   ]
  },
  {
   "cell_type": "code",
   "execution_count": 187,
   "metadata": {},
   "outputs": [
    {
     "data": {
      "text/plain": [
       "{'a': 10, 'x': 4}"
      ]
     },
     "execution_count": 187,
     "metadata": {},
     "output_type": "execute_result"
    }
   ],
   "source": [
    "vars(a) # 'x'가 생겼다."
   ]
  },
  {
   "cell_type": "markdown",
   "metadata": {},
   "source": [
    "인스턴스에서 없으면 부모를 찾고, 부모에도 없으면 변수를 새로 만든다."
   ]
  },
  {
   "cell_type": "code",
   "execution_count": 188,
   "metadata": {},
   "outputs": [],
   "source": [
    "cho.cool = 'cool'"
   ]
  },
  {
   "cell_type": "code",
   "execution_count": 190,
   "metadata": {},
   "outputs": [
    {
     "data": {
      "text/plain": [
       "'cool'"
      ]
     },
     "execution_count": 190,
     "metadata": {},
     "output_type": "execute_result"
    }
   ],
   "source": [
    "a.cool # 여러개의 클래스 애들을 연결시켜 주는 것 \n",
    "# 클래스에서 인스턴스를 동적으로 만들 수 있다.\n",
    "# 인스턴스도 동적으로 만들 수 있다."
   ]
  },
  {
   "cell_type": "markdown",
   "metadata": {},
   "source": [
    "다이나믹 특징 \n",
    "1. 데코레이터 추가, 삭제 가능 \n",
    "2. 클래스 추가, 삭제 다 가능  ...?\n",
    "\n",
    "인스턴스 변수\n",
    "클래스 변수 \n",
    "인스턴스 메소드: 모든 메소드는 인스턴스 메소드이다.\n",
    "    - 첫번째 인자가 자기 자신을 가진다. \n",
    "클래스 메소드"
   ]
  },
  {
   "cell_type": "code",
   "execution_count": 245,
   "metadata": {},
   "outputs": [],
   "source": [
    "class cho:\n",
    "    x=1\n",
    "    def __init__(self, a): # 인스턴스 메소드: self \n",
    "        self.a = a\n",
    "    def cool(se): # 자기자신의 a 가져오는 것 (self, se, this - PEP8에서 self 적으라고 권장)\n",
    "        return se.a"
   ]
  },
  {
   "cell_type": "code",
   "execution_count": 246,
   "metadata": {},
   "outputs": [],
   "source": [
    "y = cho(3)"
   ]
  },
  {
   "cell_type": "code",
   "execution_count": 247,
   "metadata": {},
   "outputs": [
    {
     "data": {
      "text/plain": [
       "3"
      ]
     },
     "execution_count": 247,
     "metadata": {},
     "output_type": "execute_result"
    }
   ],
   "source": [
    "y.cool()"
   ]
  },
  {
   "cell_type": "code",
   "execution_count": 248,
   "metadata": {},
   "outputs": [
    {
     "data": {
      "text/plain": [
       "3"
      ]
     },
     "execution_count": 248,
     "metadata": {},
     "output_type": "execute_result"
    }
   ],
   "source": [
    "y.a"
   ]
  },
  {
   "cell_type": "code",
   "execution_count": 215,
   "metadata": {
    "scrolled": true
   },
   "outputs": [
    {
     "data": {
      "text/plain": [
       "{'a': 10, 'x': 4}"
      ]
     },
     "execution_count": 215,
     "metadata": {},
     "output_type": "execute_result"
    }
   ],
   "source": [
    "vars(a)"
   ]
  },
  {
   "cell_type": "code",
   "execution_count": 254,
   "metadata": {},
   "outputs": [],
   "source": [
    "class cho:\n",
    "    x=1\n",
    "    def __init__(self, a): # 인스턴스 메소드: self \n",
    "        self.a = a\n",
    "    \n",
    "    @classmethod \n",
    "    def cool(cls): # 첫번째 인자가 클래스가 되었다.\n",
    "        return cls.x # 클래스에서는 cls 권장 "
   ]
  },
  {
   "cell_type": "code",
   "execution_count": 255,
   "metadata": {},
   "outputs": [
    {
     "data": {
      "text/plain": [
       "1"
      ]
     },
     "execution_count": 255,
     "metadata": {},
     "output_type": "execute_result"
    }
   ],
   "source": [
    "cho.x"
   ]
  },
  {
   "cell_type": "code",
   "execution_count": 256,
   "metadata": {},
   "outputs": [],
   "source": [
    "cho.x = 'cho'"
   ]
  },
  {
   "cell_type": "code",
   "execution_count": 257,
   "metadata": {},
   "outputs": [
    {
     "data": {
      "text/plain": [
       "'cho'"
      ]
     },
     "execution_count": 257,
     "metadata": {},
     "output_type": "execute_result"
    }
   ],
   "source": [
    "cho.cool()"
   ]
  },
  {
   "cell_type": "code",
   "execution_count": 239,
   "metadata": {},
   "outputs": [],
   "source": [
    "t = cho(3) # 인스턴스하면 자동으로 __init__가 실행된다. "
   ]
  },
  {
   "cell_type": "code",
   "execution_count": 240,
   "metadata": {},
   "outputs": [
    {
     "data": {
      "text/plain": [
       "['__class__',\n",
       " '__delattr__',\n",
       " '__dict__',\n",
       " '__dir__',\n",
       " '__doc__',\n",
       " '__eq__',\n",
       " '__format__',\n",
       " '__ge__',\n",
       " '__getattribute__',\n",
       " '__gt__',\n",
       " '__hash__',\n",
       " '__init__',\n",
       " '__init_subclass__',\n",
       " '__le__',\n",
       " '__lt__',\n",
       " '__module__',\n",
       " '__ne__',\n",
       " '__new__',\n",
       " '__reduce__',\n",
       " '__reduce_ex__',\n",
       " '__repr__',\n",
       " '__setattr__',\n",
       " '__sizeof__',\n",
       " '__str__',\n",
       " '__subclasshook__',\n",
       " '__weakref__',\n",
       " 'a',\n",
       " 'cool',\n",
       " 'x']"
      ]
     },
     "execution_count": 240,
     "metadata": {},
     "output_type": "execute_result"
    }
   ],
   "source": [
    "dir(t)"
   ]
  },
  {
   "cell_type": "markdown",
   "metadata": {},
   "source": [
    "* 다중 상속 \n",
    "\n",
    "함수, 클래스\n",
    "1. 선언 \n",
    "2. 재사용 \n",
    "\n",
    "파이썬 함수는 encapsulation이 잘되어있지만\n",
    "클래스는 encapsulation이 복잡하다. "
   ]
  },
  {
   "cell_type": "markdown",
   "metadata": {},
   "source": [
    "### Parameter(매개변수)\n",
    "{% capture notice-2 %}\n",
    "- 함수 (또는 메서드) 정의에서 함수가 받을 수 있는 인자 (또는 어떤 경우 인자들) 를 지정하는 이름 붙은 엔티티. 다섯 종류의 매개변수가 있음\n",
    "    + 위치-키워드 (positional-or-keyword): 위치 인자 나 키워드 인자 로 전달될 수 있는 인자를 지정한다. 이것이 기본 형태의 매개변수이다. 예를 들어 다음에서 foo 와 bar:\n",
    "        - def func(foo, bar=None): ...\n",
    "\n",
    "    + 위치-전용 (positional-only): 위치로만 제공될 수 있는 인자를 지정한다. 파이썬은 위치-전용 매개변수를 정의하는 문법을 갖고 있지 않는다. 하지만, 어떤 매장 함수들은 위치-전용 매개변수를 갖는다. (예를 들어, abs()).\n",
    "\n",
    "    +키워드-전용 (keyword-only): 키워드로만 제공될 수 있는 인자를 지정한다. 키워드-전용 매개변수는 함수 정의의 매개변수 목록에서 앞에 하나의 가변-위치 매개변수나 * 를 그대로 포함해서 정의할 수 있다. 예를 들어, 다음에서 kw_only1 와 kw_only2:\n",
    "        - def func(arg, *, kw_only1, kw_only2): ...\n",
    "\n",
    "    + 가변-위치 (var-positional): (다른 매개변수들에 의해서 이미 받아들여진 위치 인자들에 더해) 제공될 수 있는 위치 인자들의 임의의 시퀀스를 지정한다. 이런 매개변수는 매개변수 이름에 * 를 앞에 붙여서 정의될 수 있다, 예를 들어 다음에서 args:\n",
    "        - def func(*args, **kwargs): ...\n",
    "\n",
    "    + 가변-키워드 (var-keyword): (다른 매개변수들에 의해서 이미 받아들여진 키워드 인자들에 더해) 제공될 수 있는 임의의 개수 키워드 인자들을 지정한다. 이런 매개변수는 매개변수 이름에 ** 를 앞에 붙여서 정의될 수 있다, 예를 들어 위의 예 에서 kwargs.\n",
    "\n",
    "- 매개변수는 선택적 인자들을 위한 기본값뿐만 아니라 선택적이거나 필수 인자들을 지정할 수 있다.\n",
    "{% endcapture %}\n",
    "\n",
    "<div class=\"notice\">{{ notice-2 | markdownify }}</div>\n"
   ]
  },
  {
   "cell_type": "code",
   "execution_count": null,
   "metadata": {},
   "outputs": [],
   "source": []
  },
  {
   "cell_type": "code",
   "execution_count": null,
   "metadata": {},
   "outputs": [],
   "source": []
  },
  {
   "cell_type": "code",
   "execution_count": null,
   "metadata": {},
   "outputs": [],
   "source": []
  },
  {
   "cell_type": "code",
   "execution_count": null,
   "metadata": {},
   "outputs": [],
   "source": []
  },
  {
   "cell_type": "code",
   "execution_count": null,
   "metadata": {},
   "outputs": [],
   "source": []
  },
  {
   "cell_type": "code",
   "execution_count": null,
   "metadata": {},
   "outputs": [],
   "source": []
  },
  {
   "cell_type": "code",
   "execution_count": null,
   "metadata": {},
   "outputs": [],
   "source": []
  },
  {
   "cell_type": "code",
   "execution_count": null,
   "metadata": {},
   "outputs": [],
   "source": []
  },
  {
   "cell_type": "code",
   "execution_count": null,
   "metadata": {},
   "outputs": [],
   "source": []
  },
  {
   "cell_type": "code",
   "execution_count": null,
   "metadata": {},
   "outputs": [],
   "source": []
  },
  {
   "cell_type": "code",
   "execution_count": null,
   "metadata": {},
   "outputs": [],
   "source": []
  },
  {
   "cell_type": "code",
   "execution_count": null,
   "metadata": {},
   "outputs": [],
   "source": []
  }
 ],
 "metadata": {
  "kernelspec": {
   "display_name": "Python 3",
   "language": "python",
   "name": "python3"
  },
  "language_info": {
   "codemirror_mode": {
    "name": "ipython",
    "version": 3
   },
   "file_extension": ".py",
   "mimetype": "text/x-python",
   "name": "python",
   "nbconvert_exporter": "python",
   "pygments_lexer": "ipython3",
   "version": "3.7.3"
  }
 },
 "nbformat": 4,
 "nbformat_minor": 2
}
